{
  "cells": [
    {
      "cell_type": "markdown",
      "metadata": {
        "id": "view-in-github",
        "colab_type": "text"
      },
      "source": [
        "<a href=\"https://colab.research.google.com/github/nike-2001/Toxicity-Detection-In-Social-Media/blob/main/SHAP_Interpretability.ipynb\" target=\"_parent\"><img src=\"https://colab.research.google.com/assets/colab-badge.svg\" alt=\"Open In Colab\"/></a>"
      ]
    },
    {
      "cell_type": "code",
      "execution_count": null,
      "id": "ea7a5419",
      "metadata": {
        "id": "ea7a5419",
        "outputId": "70c20635-0809-4827-fa92-d0c5754fc956"
      },
      "outputs": [
        {
          "name": "stdout",
          "output_type": "stream",
          "text": [
            "Defaulting to user installation because normal site-packages is not writeable\n",
            "Requirement already satisfied: shap in /home/pkatta2/.local/lib/python3.9/site-packages (0.46.0)\n",
            "Requirement already satisfied: transformers in /home/pkatta2/.local/lib/python3.9/site-packages (4.5.1)\n",
            "Requirement already satisfied: torch in /home/pkatta2/.local/lib/python3.9/site-packages (1.8.1+cu111)\n",
            "Requirement already satisfied: numpy in /opt/sw/spack/apps/linux-rhel8-x86_64_v2/gcc-10.3.0/python-3.9.9-jh/lib/python3.9/site-packages (from shap) (1.22.3)\n",
            "Requirement already satisfied: scipy in /home/pkatta2/.local/lib/python3.9/site-packages (from shap) (1.7.1)\n",
            "Requirement already satisfied: scikit-learn in /opt/sw/spack/apps/linux-rhel8-x86_64_v2/gcc-10.3.0/python-3.9.9-jh/lib/python3.9/site-packages (from shap) (1.1.1)\n",
            "Requirement already satisfied: pandas in /opt/sw/spack/apps/linux-rhel8-x86_64_v2/gcc-10.3.0/python-3.9.9-jh/lib/python3.9/site-packages (from shap) (1.3.5)\n",
            "Requirement already satisfied: tqdm>=4.27.0 in /home/pkatta2/.local/lib/python3.9/site-packages (from shap) (4.66.5)\n",
            "Requirement already satisfied: packaging>20.9 in /opt/sw/spack/apps/linux-rhel8-x86_64_v2/gcc-10.3.0/python-3.9.9-jh/lib/python3.9/site-packages (from shap) (21.3)\n",
            "Requirement already satisfied: slicer==0.0.8 in /home/pkatta2/.local/lib/python3.9/site-packages (from shap) (0.0.8)\n",
            "Requirement already satisfied: numba in /opt/sw/spack/apps/linux-rhel8-x86_64_v2/gcc-10.3.0/python-3.9.9-jh/lib/python3.9/site-packages (from shap) (0.57.1)\n",
            "Requirement already satisfied: cloudpickle in /home/pkatta2/.local/lib/python3.9/site-packages (from shap) (3.1.0)\n",
            "Requirement already satisfied: filelock in /opt/sw/spack/apps/linux-rhel8-x86_64_v2/gcc-10.3.0/python-3.9.9-jh/lib/python3.9/site-packages (from transformers) (3.6.0)\n",
            "Requirement already satisfied: regex!=2019.12.17 in /home/pkatta2/.local/lib/python3.9/site-packages (from transformers) (2021.3.17)\n",
            "Requirement already satisfied: requests in /home/pkatta2/.local/lib/python3.9/site-packages (from transformers) (2.32.3)\n",
            "Requirement already satisfied: sacremoses in /home/pkatta2/.local/lib/python3.9/site-packages (from transformers) (0.0.43)\n",
            "Requirement already satisfied: tokenizers<0.11,>=0.10.1 in /home/pkatta2/.local/lib/python3.9/site-packages (from transformers) (0.10.2)\n",
            "Requirement already satisfied: typing-extensions in /opt/sw/spack/apps/linux-rhel8-x86_64_v2/gcc-10.3.0/python-3.9.9-jh/lib/python3.9/site-packages (from torch) (4.1.1)\n",
            "Requirement already satisfied: pyparsing!=3.0.5,>=2.0.2 in /opt/sw/spack/apps/linux-rhel8-x86_64_v2/gcc-10.3.0/python-3.9.9-jh/lib/python3.9/site-packages (from packaging>20.9->shap) (3.0.7)\n",
            "Requirement already satisfied: llvmlite<0.41,>=0.40.0dev0 in /opt/sw/spack/apps/linux-rhel8-x86_64_v2/gcc-10.3.0/python-3.9.9-jh/lib/python3.9/site-packages (from numba->shap) (0.40.1)\n",
            "Requirement already satisfied: python-dateutil>=2.7.3 in /opt/sw/spack/apps/linux-rhel8-x86_64_v2/gcc-10.3.0/python-3.9.9-jh/lib/python3.9/site-packages (from pandas->shap) (2.8.1)\n",
            "Requirement already satisfied: pytz>=2017.3 in /opt/sw/spack/apps/linux-rhel8-x86_64_v2/gcc-10.3.0/python-3.9.9-jh/lib/python3.9/site-packages (from pandas->shap) (2019.3)\n",
            "Requirement already satisfied: charset-normalizer<4,>=2 in /opt/sw/spack/apps/linux-rhel8-x86_64_v2/gcc-10.3.0/python-3.9.9-jh/lib/python3.9/site-packages (from requests->transformers) (2.0.12)\n",
            "Requirement already satisfied: idna<4,>=2.5 in /home/pkatta2/.local/lib/python3.9/site-packages (from requests->transformers) (2.10)\n",
            "Requirement already satisfied: urllib3<3,>=1.21.1 in /home/pkatta2/.local/lib/python3.9/site-packages (from requests->transformers) (1.26.4)\n",
            "Requirement already satisfied: certifi>=2017.4.17 in /opt/sw/spack/apps/linux-rhel8-x86_64_v2/gcc-10.3.0/python-3.9.9-jh/lib/python3.9/site-packages (from requests->transformers) (2021.10.8)\n",
            "Requirement already satisfied: six in /opt/sw/spack/apps/linux-rhel8-x86_64_v2/gcc-10.3.0/python-3.9.9-jh/lib/python3.9/site-packages (from sacremoses->transformers) (1.16.0)\n",
            "Requirement already satisfied: click in /home/pkatta2/.local/lib/python3.9/site-packages (from sacremoses->transformers) (7.1.2)\n",
            "Requirement already satisfied: joblib in /opt/sw/spack/apps/linux-rhel8-x86_64_v2/gcc-10.3.0/python-3.9.9-jh/lib/python3.9/site-packages (from sacremoses->transformers) (1.1.0)\n",
            "Requirement already satisfied: threadpoolctl>=2.0.0 in /opt/sw/spack/apps/linux-rhel8-x86_64_v2/gcc-10.3.0/python-3.9.9-jh/lib/python3.9/site-packages (from scikit-learn->shap) (3.1.0)\n",
            "\n",
            "\u001b[1m[\u001b[0m\u001b[34;49mnotice\u001b[0m\u001b[1;39;49m]\u001b[0m\u001b[39;49m A new release of pip is available: \u001b[0m\u001b[31;49m23.3.1\u001b[0m\u001b[39;49m -> \u001b[0m\u001b[32;49m24.3.1\u001b[0m\n",
            "\u001b[1m[\u001b[0m\u001b[34;49mnotice\u001b[0m\u001b[1;39;49m]\u001b[0m\u001b[39;49m To update, run: \u001b[0m\u001b[32;49mpip install --upgrade pip\u001b[0m\n",
            "Note: you may need to restart the kernel to use updated packages.\n"
          ]
        }
      ],
      "source": [
        "# Install the required libraries: SHAP for explainability, Transformers for pre-trained models, and Torch for deep learning\n",
        "pip install shap transformers torch"
      ]
    },
    {
      "cell_type": "code",
      "execution_count": null,
      "id": "78fa3020",
      "metadata": {
        "id": "78fa3020"
      },
      "outputs": [],
      "source": [
        "# import the required libraries\n",
        "import torch\n",
        "from transformers import BertTokenizer, BertForSequenceClassification\n",
        "import shap"
      ]
    },
    {
      "cell_type": "code",
      "execution_count": null,
      "id": "070ed99a",
      "metadata": {
        "id": "070ed99a",
        "outputId": "e03ea7eb-656e-4e2b-890e-be0970f52fc2"
      },
      "outputs": [
        {
          "name": "stderr",
          "output_type": "stream",
          "text": [
            "Some weights of the model checkpoint at bert-base-uncased were not used when initializing BertForSequenceClassification: ['cls.predictions.bias', 'cls.predictions.transform.dense.weight', 'cls.predictions.transform.dense.bias', 'cls.predictions.decoder.weight', 'cls.seq_relationship.weight', 'cls.seq_relationship.bias', 'cls.predictions.transform.LayerNorm.weight', 'cls.predictions.transform.LayerNorm.bias']\n",
            "- This IS expected if you are initializing BertForSequenceClassification from the checkpoint of a model trained on another task or with another architecture (e.g. initializing a BertForSequenceClassification model from a BertForPreTraining model).\n",
            "- This IS NOT expected if you are initializing BertForSequenceClassification from the checkpoint of a model that you expect to be exactly identical (initializing a BertForSequenceClassification model from a BertForSequenceClassification model).\n",
            "Some weights of BertForSequenceClassification were not initialized from the model checkpoint at bert-base-uncased and are newly initialized: ['classifier.weight', 'classifier.bias']\n",
            "You should probably TRAIN this model on a down-stream task to be able to use it for predictions and inference.\n"
          ]
        }
      ],
      "source": [
        "# Define the pre-trained BERT model\n",
        "MODEL_NAME = \"bert-base-uncased\"\n",
        "\n",
        "# Load the BERT model for binary classification\n",
        "model = BertForSequenceClassification.from_pretrained(MODEL_NAME, num_labels=2)\n",
        "\n",
        "# Load the tokenizer for the BERT model\n",
        "tokenizer = BertTokenizer.from_pretrained(MODEL_NAME)\n"
      ]
    },
    {
      "cell_type": "code",
      "execution_count": null,
      "id": "999ff74e",
      "metadata": {
        "id": "999ff74e"
      },
      "outputs": [],
      "source": [
        "# Set the device to GPU if available, otherwise use CPU\n",
        "device = torch.device(\"cuda\" if torch.cuda.is_available() else \"cpu\")\n",
        "\n",
        "# Move the model to the selected device\n",
        "model.to(device)\n",
        "\n",
        "# Define a function for model predictions\n",
        "def model_predict(texts):\n",
        "    # Tokenize the input texts and prepare them for the model\n",
        "    encoded_inputs = tokenizer(\n",
        "        list(texts),\n",
        "        padding=True,\n",
        "        truncation=True,\n",
        "        max_length=128,\n",
        "        return_tensors=\"pt\"\n",
        "    )\n",
        "    # Move input data to the selected device\n",
        "    input_ids = encoded_inputs[\"input_ids\"].to(device)\n",
        "    attention_mask = encoded_inputs[\"attention_mask\"].to(device)\n",
        "\n",
        "    # Make predictions without updating model parameters\n",
        "    with torch.no_grad():\n",
        "        outputs = model(input_ids=input_ids, attention_mask=attention_mask)\n",
        "    logits = outputs.logits\n",
        "    # Apply softmax to get probabilities\n",
        "    probs = torch.softmax(logits, dim=-1)\n",
        "    return probs.cpu().numpy()\n",
        "\n",
        "# Initialize SHAP Explainer with the model prediction function\n",
        "explainer = shap.Explainer(\n",
        "    model_predict,\n",
        "    masker=shap.maskers.Text(tokenizer),\n",
        ")\n"
      ]
    },
    {
      "cell_type": "code",
      "execution_count": null,
      "id": "834f96c1",
      "metadata": {
        "id": "834f96c1"
      },
      "outputs": [],
      "source": [
        "# List of example comments, including both negative and positive sentiment\n",
        "comments = [\n",
        "    \"Fucking Hate you\",  # Strongly negative comment\n",
        "    \"You're so stupid\",  # Negative comment\n",
        "    \"We like you\"        # Positive comment\n",
        "]\n"
      ]
    },
    {
      "cell_type": "code",
      "execution_count": null,
      "id": "d8598b53",
      "metadata": {
        "id": "d8598b53"
      },
      "outputs": [],
      "source": [
        "shap_values = explainer(comments)"
      ]
    },
    {
      "cell_type": "code",
      "execution_count": null,
      "id": "8558f007",
      "metadata": {
        "id": "8558f007",
        "outputId": "ab755e33-b81a-44ba-f336-628322044101"
      },
      "outputs": [
        {
          "name": "stdout",
          "output_type": "stream",
          "text": [
            "\n",
            "Comment: Fucking Hate you\n"
          ]
        },
        {
          "data": {
            "text/html": [
              "<svg width=\"100%\" height=\"80px\"><line x1=\"0\" y1=\"33\" x2=\"100%\" y2=\"33\" style=\"stroke:rgb(150,150,150);stroke-width:1\" /><line x1=\"61.70363692461897%\" y1=\"33\" x2=\"61.70363692461897%\" y2=\"37\" style=\"stroke:rgb(150,150,150);stroke-width:1\" /><text x=\"61.70363692461897%\" y=\"27\" font-size=\"12px\" fill=\"rgb(120,120,120)\" dominant-baseline=\"bottom\" text-anchor=\"middle\">0.32</text><line x1=\"61.70363692461897%\" y1=\"33\" x2=\"61.70363692461897%\" y2=\"37\" style=\"stroke:rgb(150,150,150);stroke-width:1\" /><text x=\"61.70363692461897%\" y=\"27\" font-size=\"12px\" fill=\"rgb(120,120,120)\" dominant-baseline=\"bottom\" text-anchor=\"middle\">0.32</text><line x1=\"61.70363692461897%\" y1=\"33\" x2=\"61.70363692461897%\" y2=\"37\" style=\"stroke:rgb(150,150,150);stroke-width:1\" /><text x=\"61.70363692461897%\" y=\"27\" font-size=\"12px\" fill=\"rgb(120,120,120)\" dominant-baseline=\"bottom\" text-anchor=\"middle\">0.32</text><line x1=\"61.70363692461897%\" y1=\"33\" x2=\"61.70363692461897%\" y2=\"37\" style=\"stroke:rgb(150,150,150);stroke-width:1\" /><text x=\"61.70363692461897%\" y=\"27\" font-size=\"12px\" fill=\"rgb(120,120,120)\" dominant-baseline=\"bottom\" text-anchor=\"middle\">0.32</text><line x1=\"61.70363692461897%\" y1=\"33\" x2=\"61.70363692461897%\" y2=\"37\" style=\"stroke:rgb(150,150,150);stroke-width:1\" /><text x=\"61.70363692461897%\" y=\"27\" font-size=\"12px\" fill=\"rgb(120,120,120)\" dominant-baseline=\"bottom\" text-anchor=\"middle\">0.32</text><line x1=\"61.70363692461897%\" y1=\"33\" x2=\"61.70363692461897%\" y2=\"37\" style=\"stroke:rgb(150,150,150);stroke-width:1\" /><text x=\"61.70363692461897%\" y=\"27\" font-size=\"12px\" fill=\"rgb(120,120,120)\" dominant-baseline=\"bottom\" text-anchor=\"middle\">0.32</text><line x1=\"61.70363692461897%\" y1=\"33\" x2=\"61.70363692461897%\" y2=\"37\" style=\"stroke:rgb(150,150,150);stroke-width:1\" /><text x=\"61.70363692461897%\" y=\"27\" font-size=\"12px\" fill=\"rgb(120,120,120)\" dominant-baseline=\"bottom\" text-anchor=\"middle\">0.32</text><line x1=\"61.70363692461897%\" y1=\"33\" x2=\"61.70363692461897%\" y2=\"37\" style=\"stroke:rgb(150,150,150);stroke-width:1\" /><text x=\"61.70363692461897%\" y=\"27\" font-size=\"12px\" fill=\"rgb(120,120,120)\" dominant-baseline=\"bottom\" text-anchor=\"middle\">0.32</text><line x1=\"61.70363692461897%\" y1=\"33\" x2=\"61.70363692461897%\" y2=\"37\" style=\"stroke:rgb(150,150,150);stroke-width:1\" /><text x=\"61.70363692461897%\" y=\"27\" font-size=\"12px\" fill=\"rgb(120,120,120)\" dominant-baseline=\"bottom\" text-anchor=\"middle\">0.32</text><line x1=\"61.70363692461897%\" y1=\"33\" x2=\"61.70363692461897%\" y2=\"37\" style=\"stroke:rgb(150,150,150);stroke-width:1\" /><text x=\"61.70363692461897%\" y=\"27\" font-size=\"12px\" fill=\"rgb(120,120,120)\" dominant-baseline=\"bottom\" text-anchor=\"middle\">0.32</text><line x1=\"61.70363692461897%\" y1=\"33\" x2=\"61.70363692461897%\" y2=\"37\" style=\"stroke:rgb(150,150,150);stroke-width:1\" /><text x=\"61.70363692461897%\" y=\"27\" font-size=\"12px\" fill=\"rgb(120,120,120)\" dominant-baseline=\"bottom\" text-anchor=\"middle\">0.32</text><line x1=\"61.70363692461897%\" y1=\"33\" x2=\"61.70363692461897%\" y2=\"37\" style=\"stroke:rgb(150,150,150);stroke-width:1\" /><text x=\"61.70363692461897%\" y=\"27\" font-size=\"12px\" fill=\"rgb(120,120,120)\" dominant-baseline=\"bottom\" text-anchor=\"middle\">0.32</text><line x1=\"61.70363692461897%\" y1=\"33\" x2=\"61.70363692461897%\" y2=\"37\" style=\"stroke:rgb(150,150,150);stroke-width:1\" /><text x=\"61.70363692461897%\" y=\"27\" font-size=\"12px\" fill=\"rgb(120,120,120)\" dominant-baseline=\"bottom\" text-anchor=\"middle\">0.32</text><line x1=\"61.70363692461897%\" y1=\"33\" x2=\"61.70363692461897%\" y2=\"37\" style=\"stroke:rgb(150,150,150);stroke-width:1\" /><text x=\"61.70363692461897%\" y=\"27\" font-size=\"12px\" fill=\"rgb(120,120,120)\" dominant-baseline=\"bottom\" text-anchor=\"middle\">0.32</text><line x1=\"61.70363692461897%\" y1=\"33\" x2=\"61.70363692461897%\" y2=\"37\" style=\"stroke:rgb(150,150,150);stroke-width:1\" /><text x=\"61.70363692461897%\" y=\"27\" font-size=\"12px\" fill=\"rgb(120,120,120)\" dominant-baseline=\"bottom\" text-anchor=\"middle\">0.32</text><line x1=\"61.70363692461897%\" y1=\"33\" x2=\"61.70363692461897%\" y2=\"37\" style=\"stroke:rgb(150,150,150);stroke-width:1\" /><text x=\"61.70363692461897%\" y=\"27\" font-size=\"12px\" fill=\"rgb(120,120,120)\" dominant-baseline=\"bottom\" text-anchor=\"middle\">0.32</text><line x1=\"61.70363692461897%\" y1=\"33\" x2=\"61.70363692461897%\" y2=\"37\" style=\"stroke:rgb(150,150,150);stroke-width:1\" /><text x=\"61.70363692461897%\" y=\"27\" font-size=\"12px\" fill=\"rgb(120,120,120)\" dominant-baseline=\"bottom\" text-anchor=\"middle\">0.32</text><line x1=\"61.70363692461897%\" y1=\"33\" x2=\"61.70363692461897%\" y2=\"37\" style=\"stroke:rgb(150,150,150);stroke-width:1\" /><text x=\"61.70363692461897%\" y=\"27\" font-size=\"12px\" fill=\"rgb(120,120,120)\" dominant-baseline=\"bottom\" text-anchor=\"middle\">0.32</text><line x1=\"61.70363692461897%\" y1=\"33\" x2=\"61.70363692461897%\" y2=\"37\" style=\"stroke:rgb(150,150,150);stroke-width:1\" /><text x=\"61.70363692461897%\" y=\"27\" font-size=\"12px\" fill=\"rgb(120,120,120)\" dominant-baseline=\"bottom\" text-anchor=\"middle\">0.32</text><line x1=\"16.85195489683763%\" y1=\"33\" x2=\"16.85195489683763%\" y2=\"37\" style=\"stroke:rgb(150,150,150);stroke-width:1\" /><text x=\"16.85195489683763%\" y=\"27\" font-size=\"13px\" style=\"stroke:#ffffff;stroke-width:8px;\" fill=\"rgb(255,255,255)\" dominant-baseline=\"bottom\" text-anchor=\"middle\">0.304922</text><text x=\"16.85195489683763%\" y=\"27\" font-size=\"12px\" fill=\"rgb(120,120,120)\" dominant-baseline=\"bottom\" text-anchor=\"middle\">0.304922</text><text x=\"16.85195489683763%\" y=\"10\" font-size=\"12px\" fill=\"rgb(120,120,120)\" dominant-baseline=\"bottom\" text-anchor=\"middle\">base value</text><line x1=\"83.14801535622357%\" y1=\"33\" x2=\"83.14801535622357%\" y2=\"37\" style=\"stroke:rgb(150,150,150);stroke-width:1\" /><text x=\"83.14801535622357%\" y=\"27\" font-size=\"13px\" style=\"stroke:#ffffff;stroke-width:8px;\" font-weight=\"bold\" fill=\"rgb(255,255,255)\" dominant-baseline=\"bottom\" text-anchor=\"middle\">0.327209</text><text x=\"83.14801535622357%\" y=\"27\" font-size=\"13px\" font-weight=\"bold\" fill=\"rgb(0,0,0)\" dominant-baseline=\"bottom\" text-anchor=\"middle\">0.327209</text><text x=\"83.14801535622357%\" y=\"10\" font-size=\"12px\" fill=\"rgb(120,120,120)\" dominant-baseline=\"bottom\" text-anchor=\"middle\">f<tspan baseline-shift=\"sub\" font-size=\"8px\"></tspan>(inputs)</text><rect x=\"8.333330854421794%\" width=\"74.81468450180178%\" y=\"40\" height=\"18\" style=\"fill:rgb(255.0, 0.0, 81.08083606031792); stroke-width:0; stroke:rgb(0,0,0)\" /><line x1=\"45.6419914729195%\" x2=\"83.14801535622357%\" y1=\"60\" y2=\"60\" id=\"_fb_jzumpwtzlrvukjgjrwnq_ind_1\" style=\"stroke:rgb(255.0, 0.0, 81.08083606031792);stroke-width:2; opacity: 0\"/><text x=\"64.39500341457153%\" y=\"71\" font-size=\"12px\" id=\"_fs_jzumpwtzlrvukjgjrwnq_ind_1\" fill=\"rgb(255.0, 0.0, 81.08083606031792)\" style=\"opacity: 0\" dominant-baseline=\"middle\" text-anchor=\"middle\">0.013</text><svg x=\"45.6419914729195%\" y=\"40\" height=\"20\" width=\"37.50602388330407%\">  <svg x=\"0\" y=\"0\" width=\"100%\" height=\"100%\">    <text x=\"50%\" y=\"9\" font-size=\"12px\" fill=\"rgb(255,255,255)\" dominant-baseline=\"middle\" text-anchor=\"middle\">fucking</text>  </svg></svg><line x1=\"8.33896030633205%\" x2=\"45.6419914729195%\" y1=\"60\" y2=\"60\" id=\"_fb_jzumpwtzlrvukjgjrwnq_ind_2\" style=\"stroke:rgb(255.0, 0.0, 81.08083606031792);stroke-width:2; opacity: 0\"/><text x=\"26.990475889625774%\" y=\"71\" font-size=\"12px\" id=\"_fs_jzumpwtzlrvukjgjrwnq_ind_2\" fill=\"rgb(255.0, 0.0, 81.08083606031792)\" style=\"opacity: 0\" dominant-baseline=\"middle\" text-anchor=\"middle\">0.013</text><svg x=\"8.33896030633205%\" y=\"40\" height=\"20\" width=\"37.30303116658745%\">  <svg x=\"0\" y=\"0\" width=\"100%\" height=\"100%\">    <text x=\"50%\" y=\"9\" font-size=\"12px\" fill=\"rgb(255,255,255)\" dominant-baseline=\"middle\" text-anchor=\"middle\">hate</text>  </svg></svg><line x1=\"8.333330854421794%\" x2=\"8.33896030633205%\" y1=\"60\" y2=\"60\" id=\"_fb_jzumpwtzlrvukjgjrwnq_ind_0\" style=\"stroke:rgb(255.0, 0.0, 81.08083606031792);stroke-width:2; opacity: 0\"/><text x=\"8.336145580376922%\" y=\"71\" font-size=\"12px\" id=\"_fs_jzumpwtzlrvukjgjrwnq_ind_0\" fill=\"rgb(255.0, 0.0, 81.08083606031792)\" style=\"opacity: 0\" dominant-baseline=\"middle\" text-anchor=\"middle\">0.0</text><svg x=\"8.333330854421794%\" y=\"40\" height=\"20\" width=\"0.005629451910255767%\">  <svg x=\"0\" y=\"0\" width=\"100%\" height=\"100%\">    <text x=\"50%\" y=\"9\" font-size=\"12px\" fill=\"rgb(255,255,255)\" dominant-baseline=\"middle\" text-anchor=\"middle\"></text>  </svg></svg><g transform=\"translate(0,0)\">  <svg x=\"45.6419914729195%\" y=\"40\" height=\"18\" overflow=\"visible\" width=\"30\">    <path d=\"M 0 -9 l 6 18 L 0 25\" fill=\"none\" style=\"stroke:rgb(255.0, 0.0, 81.08083606031792);stroke-width:2\" />  </svg></g><g transform=\"translate(2,0)\">  <svg x=\"45.6419914729195%\" y=\"40\" height=\"18\" overflow=\"visible\" width=\"30\">    <path d=\"M 0 -9 l 6 18 L 0 25\" fill=\"none\" style=\"stroke:rgb(255.0, 0.0, 81.08083606031792);stroke-width:2\" />  </svg></g><g transform=\"translate(4,0)\">  <svg x=\"45.6419914729195%\" y=\"40\" height=\"18\" overflow=\"visible\" width=\"30\">    <path d=\"M 0 -9 l 6 18 L 0 25\" fill=\"none\" style=\"stroke:rgb(255.0, 0.0, 81.08083606031792);stroke-width:2\" />  </svg></g><g transform=\"translate(6,0)\">  <svg x=\"45.6419914729195%\" y=\"40\" height=\"18\" overflow=\"visible\" width=\"30\">    <path d=\"M 0 -9 l 6 18 L 0 25\" fill=\"none\" style=\"stroke:rgb(255.0, 0.0, 81.08083606031792);stroke-width:2\" />  </svg></g><g transform=\"translate(-8,0)\">  <svg x=\"45.6419914729195%\" y=\"40\" height=\"18\" overflow=\"visible\" width=\"30\">    <path d=\"M 0 -9 l 6 18 L 0 25\" fill=\"none\" style=\"stroke:rgb(255.0, 0.0, 81.08083606031792);stroke-width:2\" />  </svg></g><g transform=\"translate(-6,0)\">  <svg x=\"45.6419914729195%\" y=\"40\" height=\"18\" overflow=\"visible\" width=\"30\">    <path d=\"M 0 -9 l 6 18 L 0 25\" fill=\"none\" style=\"stroke:rgb(255.0, 0.0, 81.08083606031792);stroke-width:2\" />  </svg></g><g transform=\"translate(-4,0)\">  <svg x=\"45.6419914729195%\" y=\"40\" height=\"18\" overflow=\"visible\" width=\"30\">    <path d=\"M 0 -9 l 6 18 L 0 25\" fill=\"none\" style=\"stroke:rgb(255.0, 0.0, 81.08083606031792);stroke-width:2\" />  </svg></g><g transform=\"translate(-2,0)\">  <svg x=\"45.6419914729195%\" y=\"40\" height=\"18\" overflow=\"visible\" width=\"30\">    <path d=\"M 0 -9 l 6 18 L 0 25\" fill=\"none\" style=\"stroke:rgb(255.0, 0.0, 81.08083606031792);stroke-width:2\" />  </svg></g><g transform=\"translate(0,0)\">  <svg x=\"8.33896030633205%\" y=\"40\" height=\"18\" overflow=\"visible\" width=\"30\">    <path d=\"M 0 -9 l 6 18 L 0 25\" fill=\"none\" style=\"stroke:rgb(255.0, 0.0, 81.08083606031792);stroke-width:2\" />  </svg></g><g transform=\"translate(2,0)\">  <svg x=\"8.33896030633205%\" y=\"40\" height=\"18\" overflow=\"visible\" width=\"30\">    <path d=\"M 0 -9 l 6 18 L 0 25\" fill=\"none\" style=\"stroke:rgb(255.0, 0.0, 81.08083606031792);stroke-width:2\" />  </svg></g><g transform=\"translate(4,0)\">  <svg x=\"8.33896030633205%\" y=\"40\" height=\"18\" overflow=\"visible\" width=\"30\">    <path d=\"M 0 -9 l 6 18 L 0 25\" fill=\"none\" style=\"stroke:rgb(255.0, 0.0, 81.08083606031792);stroke-width:2\" />  </svg></g><g transform=\"translate(6,0)\">  <svg x=\"8.33896030633205%\" y=\"40\" height=\"18\" overflow=\"visible\" width=\"30\">    <path d=\"M 0 -9 l 6 18 L 0 25\" fill=\"none\" style=\"stroke:rgb(255.0, 0.0, 81.08083606031792);stroke-width:2\" />  </svg></g><g transform=\"translate(-8,0)\">  <svg x=\"8.33896030633205%\" y=\"40\" height=\"18\" overflow=\"visible\" width=\"30\">    <path d=\"M 0 -9 l 6 18 L 0 25\" fill=\"none\" style=\"stroke:rgb(255.0, 0.0, 81.08083606031792);stroke-width:2\" />  </svg></g><g transform=\"translate(-6,0)\">  <svg x=\"8.33896030633205%\" y=\"40\" height=\"18\" overflow=\"visible\" width=\"30\">    <path d=\"M 0 -9 l 6 18 L 0 25\" fill=\"none\" style=\"stroke:rgb(255.0, 0.0, 81.08083606031792);stroke-width:2\" />  </svg></g><g transform=\"translate(-4,0)\">  <svg x=\"8.33896030633205%\" y=\"40\" height=\"18\" overflow=\"visible\" width=\"30\">    <path d=\"M 0 -9 l 6 18 L 0 25\" fill=\"none\" style=\"stroke:rgb(255.0, 0.0, 81.08083606031792);stroke-width:2\" />  </svg></g><g transform=\"translate(-2,0)\">  <svg x=\"8.33896030633205%\" y=\"40\" height=\"18\" overflow=\"visible\" width=\"30\">    <path d=\"M 0 -9 l 6 18 L 0 25\" fill=\"none\" style=\"stroke:rgb(255.0, 0.0, 81.08083606031792);stroke-width:2\" />  </svg></g><rect transform=\"translate(-8,0)\" x=\"83.14801535622357%\" y=\"40\" width=\"8\" height=\"18\" style=\"fill:rgb(255.0, 0.0, 81.08083606031792)\"/><g transform=\"translate(-11.5,0)\">  <svg x=\"8.333330854421794%\" y=\"40\" height=\"18\" overflow=\"visible\" width=\"30\">    <path d=\"M 10 -9 l 6 18 L 10 25 L 0 25 L 0 -9\" fill=\"#ffffff\" style=\"stroke:rgb(255,255,255);stroke-width:2\" />  </svg></g><g transform=\"translate(-1.5,0)\">  <svg x=\"83.14801535622357%\" y=\"40\" height=\"18\" overflow=\"visible\" width=\"30\">    <path d=\"M 0 -9 l 6 18 L 0 25\" fill=\"none\" style=\"stroke:rgb(255, 195, 213);stroke-width:2\" />  </svg></g><rect x=\"45.6419914729195%\" y=\"40\" height=\"20\" width=\"37.50602388330407%\"      onmouseover=\"document.getElementById('_tp_jzumpwtzlrvukjgjrwnq_ind_1').style.textDecoration = 'underline';document.getElementById('_fs_jzumpwtzlrvukjgjrwnq_ind_1').style.opacity = 1;document.getElementById('_fb_jzumpwtzlrvukjgjrwnq_ind_1').style.opacity = 1;\"      onmouseout=\"document.getElementById('_tp_jzumpwtzlrvukjgjrwnq_ind_1').style.textDecoration = 'none';document.getElementById('_fs_jzumpwtzlrvukjgjrwnq_ind_1').style.opacity = 0;document.getElementById('_fb_jzumpwtzlrvukjgjrwnq_ind_1').style.opacity = 0;\" style=\"fill:rgb(0,0,0,0)\" /><g transform=\"translate(-1.5,0)\">  <svg x=\"45.6419914729195%\" y=\"40\" height=\"18\" overflow=\"visible\" width=\"30\">    <path d=\"M 0 -9 l 6 18 L 0 25\" fill=\"none\" style=\"stroke:rgb(255, 195, 213);stroke-width:2\" />  </svg></g><rect x=\"8.33896030633205%\" y=\"40\" height=\"20\" width=\"37.30303116658745%\"      onmouseover=\"document.getElementById('_tp_jzumpwtzlrvukjgjrwnq_ind_2').style.textDecoration = 'underline';document.getElementById('_fs_jzumpwtzlrvukjgjrwnq_ind_2').style.opacity = 1;document.getElementById('_fb_jzumpwtzlrvukjgjrwnq_ind_2').style.opacity = 1;\"      onmouseout=\"document.getElementById('_tp_jzumpwtzlrvukjgjrwnq_ind_2').style.textDecoration = 'none';document.getElementById('_fs_jzumpwtzlrvukjgjrwnq_ind_2').style.opacity = 0;document.getElementById('_fb_jzumpwtzlrvukjgjrwnq_ind_2').style.opacity = 0;\" style=\"fill:rgb(0,0,0,0)\" /><rect x=\"8.333330854421794%\" y=\"40\" height=\"20\" width=\"0.005629451910255767%\"      onmouseover=\"document.getElementById('_tp_jzumpwtzlrvukjgjrwnq_ind_0').style.textDecoration = 'underline';document.getElementById('_fs_jzumpwtzlrvukjgjrwnq_ind_0').style.opacity = 1;document.getElementById('_fb_jzumpwtzlrvukjgjrwnq_ind_0').style.opacity = 1;\"      onmouseout=\"document.getElementById('_tp_jzumpwtzlrvukjgjrwnq_ind_0').style.textDecoration = 'none';document.getElementById('_fs_jzumpwtzlrvukjgjrwnq_ind_0').style.opacity = 0;document.getElementById('_fb_jzumpwtzlrvukjgjrwnq_ind_0').style.opacity = 0;\" style=\"fill:rgb(0,0,0,0)\" /><rect x=\"83.14801535622357%\" width=\"8.518624042415833%\" y=\"40\" height=\"18\" style=\"fill:rgb(0.0, 138.56128015770727, 250.76166088685727); stroke-width:0; stroke:rgb(0,0,0)\" /><line x1=\"83.14801535622357%\" x2=\"91.66606315553048%\" y1=\"60\" y2=\"60\" id=\"_fb_jzumpwtzlrvukjgjrwnq_ind_3\" style=\"stroke:rgb(0.0, 138.56128015770727, 250.76166088685727);stroke-width:2; opacity: 0\"/><text x=\"87.40703925587702%\" y=\"71\" font-size=\"12px\" fill=\"rgb(0.0, 138.56128015770727, 250.76166088685727)\" id=\"_fs_jzumpwtzlrvukjgjrwnq_ind_3\" style=\"opacity: 0\" dominant-baseline=\"middle\" text-anchor=\"middle\">-0.003</text><svg x=\"83.14801535622357%\" y=\"40\" height=\"20\" width=\"8.518047799306913%\">  <svg x=\"0\" y=\"0\" width=\"100%\" height=\"100%\">    <text x=\"50%\" y=\"9\" font-size=\"12px\" fill=\"rgb(255,255,255)\" dominant-baseline=\"middle\" text-anchor=\"middle\">you</text>  </svg></svg><line x1=\"91.66606315553048%\" x2=\"91.6666393986394%\" y1=\"60\" y2=\"60\" id=\"_fb_jzumpwtzlrvukjgjrwnq_ind_4\" style=\"stroke:rgb(0.0, 138.56128015770727, 250.76166088685727);stroke-width:2; opacity: 0\"/><text x=\"91.66635127708494%\" y=\"71\" font-size=\"12px\" fill=\"rgb(0.0, 138.56128015770727, 250.76166088685727)\" id=\"_fs_jzumpwtzlrvukjgjrwnq_ind_4\" style=\"opacity: 0\" dominant-baseline=\"middle\" text-anchor=\"middle\">-0.0</text><svg x=\"91.66606315553048%\" y=\"40\" height=\"20\" width=\"0.0005762431089237907%\">  <svg x=\"0\" y=\"0\" width=\"100%\" height=\"100%\">    <text x=\"50%\" y=\"9\" font-size=\"12px\" fill=\"rgb(255,255,255)\" dominant-baseline=\"middle\" text-anchor=\"middle\"></text>  </svg></svg><g transform=\"translate(-8,0)\">  <svg x=\"91.66606315553048%\" y=\"40\" height=\"18\" overflow=\"visible\" width=\"30\">    <path d=\"M 8 -9 l -6 18 L 8 25\" fill=\"none\" style=\"stroke:rgb(0.0, 138.56128015770727, 250.76166088685727);stroke-width:2\" />  </svg></g><g transform=\"translate(-10,0)\">  <svg x=\"91.66606315553048%\" y=\"40\" height=\"18\" overflow=\"visible\" width=\"30\">    <path d=\"M 8 -9 l -6 18 L 8 25\" fill=\"none\" style=\"stroke:rgb(0.0, 138.56128015770727, 250.76166088685727);stroke-width:2\" />  </svg></g><g transform=\"translate(-12,0)\">  <svg x=\"91.66606315553048%\" y=\"40\" height=\"18\" overflow=\"visible\" width=\"30\">    <path d=\"M 8 -9 l -6 18 L 8 25\" fill=\"none\" style=\"stroke:rgb(0.0, 138.56128015770727, 250.76166088685727);stroke-width:2\" />  </svg></g><g transform=\"translate(-14,0)\">  <svg x=\"91.66606315553048%\" y=\"40\" height=\"18\" overflow=\"visible\" width=\"30\">    <path d=\"M 8 -9 l -6 18 L 8 25\" fill=\"none\" style=\"stroke:rgb(0.0, 138.56128015770727, 250.76166088685727);stroke-width:2\" />  </svg></g><g transform=\"translate(2,0)\">  <svg x=\"91.66606315553048%\" y=\"40\" height=\"18\" overflow=\"visible\" width=\"30\">    <path d=\"M 8 -9 l -6 18 L 8 25\" fill=\"none\" style=\"stroke:rgb(0.0, 138.56128015770727, 250.76166088685727);stroke-width:2\" />  </svg></g><g transform=\"translate(0,0)\">  <svg x=\"91.66606315553048%\" y=\"40\" height=\"18\" overflow=\"visible\" width=\"30\">    <path d=\"M 8 -9 l -6 18 L 8 25\" fill=\"none\" style=\"stroke:rgb(0.0, 138.56128015770727, 250.76166088685727);stroke-width:2\" />  </svg></g><g transform=\"translate(-2,0)\">  <svg x=\"91.66606315553048%\" y=\"40\" height=\"18\" overflow=\"visible\" width=\"30\">    <path d=\"M 8 -9 l -6 18 L 8 25\" fill=\"none\" style=\"stroke:rgb(0.0, 138.56128015770727, 250.76166088685727);stroke-width:2\" />  </svg></g><g transform=\"translate(-4,0)\">  <svg x=\"91.66606315553048%\" y=\"40\" height=\"18\" overflow=\"visible\" width=\"30\">    <path d=\"M 8 -9 l -6 18 L 8 25\" fill=\"none\" style=\"stroke:rgb(0.0, 138.56128015770727, 250.76166088685727);stroke-width:2\" />  </svg></g><rect transform=\"translate(0,0)\" x=\"83.14801535622357%\" y=\"40\" width=\"8\" height=\"18\" style=\"fill:rgb(0.0, 138.56128015770727, 250.76166088685727)\"/><g transform=\"translate(-6.0,0)\">  <svg x=\"91.6666393986394%\" y=\"40\" height=\"18\" overflow=\"visible\" width=\"30\">    <path d=\"M 8 -9 l -6 18 L 8 25 L 20 25 L 20 -9\" fill=\"#ffffff\" style=\"stroke:rgb(255,255,255);stroke-width:2\" />  </svg></g><g transform=\"translate(-6.0,0)\">  <svg x=\"91.66606315553048%\" y=\"40\" height=\"18\" overflow=\"visible\" width=\"30\">    <path d=\"M 8 -9 l -6 18 L 8 25\" fill=\"none\" style=\"stroke:rgb(208, 230, 250);stroke-width:2\" />  </svg></g><rect x=\"83.14801535622357%\" y=\"40\" height=\"20\" width=\"8.518047799306913%\"      onmouseover=\"document.getElementById('_tp_jzumpwtzlrvukjgjrwnq_ind_3').style.textDecoration = 'underline';document.getElementById('_fs_jzumpwtzlrvukjgjrwnq_ind_3').style.opacity = 1;document.getElementById('_fb_jzumpwtzlrvukjgjrwnq_ind_3').style.opacity = 1;\"      onmouseout=\"document.getElementById('_tp_jzumpwtzlrvukjgjrwnq_ind_3').style.textDecoration = 'none';document.getElementById('_fs_jzumpwtzlrvukjgjrwnq_ind_3').style.opacity = 0;document.getElementById('_fb_jzumpwtzlrvukjgjrwnq_ind_3').style.opacity = 0;\" style=\"fill:rgb(0,0,0,0)\" /><rect x=\"91.66606315553048%\" y=\"40\" height=\"20\" width=\"0.0005762431089237907%\"      onmouseover=\"document.getElementById('_tp_jzumpwtzlrvukjgjrwnq_ind_4').style.textDecoration = 'underline';document.getElementById('_fs_jzumpwtzlrvukjgjrwnq_ind_4').style.opacity = 1;document.getElementById('_fb_jzumpwtzlrvukjgjrwnq_ind_4').style.opacity = 1;\"      onmouseout=\"document.getElementById('_tp_jzumpwtzlrvukjgjrwnq_ind_4').style.textDecoration = 'none';document.getElementById('_fs_jzumpwtzlrvukjgjrwnq_ind_4').style.opacity = 0;document.getElementById('_fb_jzumpwtzlrvukjgjrwnq_ind_4').style.opacity = 0;\" style=\"fill:rgb(0,0,0,0)\" /></svg><div align='center'><div style=\"color: rgb(120,120,120); font-size: 12px; margin-top: -15px;\">inputs</div><div style='display: inline; text-align: center;'\n",
              "    ><div style='display: none; color: #999; padding-top: 0px; font-size: 12px;'>0.0</div\n",
              "        ><div id='_tp_jzumpwtzlrvukjgjrwnq_ind_0'\n",
              "            style='display: inline; background: rgba(230.2941176470614, 26.505882352939775, 102.59215686274348, 0.0); border-radius: 3px; padding: 0px'\n",
              "            onclick=\"\n",
              "            if (this.previousSibling.style.display == 'none') {\n",
              "                this.previousSibling.style.display = 'block';\n",
              "                this.parentNode.style.display = 'inline-block';\n",
              "            } else {\n",
              "                this.previousSibling.style.display = 'none';\n",
              "                this.parentNode.style.display = 'inline';\n",
              "            }\"\n",
              "            onmouseover=\"document.getElementById('_fb_jzumpwtzlrvukjgjrwnq_ind_0').style.opacity = 1; document.getElementById('_fs_jzumpwtzlrvukjgjrwnq_ind_0').style.opacity = 1;\"\n",
              "            onmouseout=\"document.getElementById('_fb_jzumpwtzlrvukjgjrwnq_ind_0').style.opacity = 0; document.getElementById('_fs_jzumpwtzlrvukjgjrwnq_ind_0').style.opacity = 0;\"\n",
              "        ></div></div><div style='display: inline; text-align: center;'\n",
              "    ><div style='display: none; color: #999; padding-top: 0px; font-size: 12px;'>0.013</div\n",
              "        ><div id='_tp_jzumpwtzlrvukjgjrwnq_ind_1'\n",
              "            style='display: inline; background: rgba(255.0, 13.0, 87.0, 1.0); border-radius: 3px; padding: 0px'\n",
              "            onclick=\"\n",
              "            if (this.previousSibling.style.display == 'none') {\n",
              "                this.previousSibling.style.display = 'block';\n",
              "                this.parentNode.style.display = 'inline-block';\n",
              "            } else {\n",
              "                this.previousSibling.style.display = 'none';\n",
              "                this.parentNode.style.display = 'inline';\n",
              "            }\"\n",
              "            onmouseover=\"document.getElementById('_fb_jzumpwtzlrvukjgjrwnq_ind_1').style.opacity = 1; document.getElementById('_fs_jzumpwtzlrvukjgjrwnq_ind_1').style.opacity = 1;\"\n",
              "            onmouseout=\"document.getElementById('_fb_jzumpwtzlrvukjgjrwnq_ind_1').style.opacity = 0; document.getElementById('_fs_jzumpwtzlrvukjgjrwnq_ind_1').style.opacity = 0;\"\n",
              "        > fucking</div></div><div style='display: inline; text-align: center;'\n",
              "    ><div style='display: none; color: #999; padding-top: 0px; font-size: 12px;'>0.013</div\n",
              "        ><div id='_tp_jzumpwtzlrvukjgjrwnq_ind_2'\n",
              "            style='display: inline; background: rgba(255.0, 13.0, 87.0, 1.0); border-radius: 3px; padding: 0px'\n",
              "            onclick=\"\n",
              "            if (this.previousSibling.style.display == 'none') {\n",
              "                this.previousSibling.style.display = 'block';\n",
              "                this.parentNode.style.display = 'inline-block';\n",
              "            } else {\n",
              "                this.previousSibling.style.display = 'none';\n",
              "                this.parentNode.style.display = 'inline';\n",
              "            }\"\n",
              "            onmouseover=\"document.getElementById('_fb_jzumpwtzlrvukjgjrwnq_ind_2').style.opacity = 1; document.getElementById('_fs_jzumpwtzlrvukjgjrwnq_ind_2').style.opacity = 1;\"\n",
              "            onmouseout=\"document.getElementById('_fb_jzumpwtzlrvukjgjrwnq_ind_2').style.opacity = 0; document.getElementById('_fs_jzumpwtzlrvukjgjrwnq_ind_2').style.opacity = 0;\"\n",
              "        > hate</div></div><div style='display: inline; text-align: center;'\n",
              "    ><div style='display: none; color: #999; padding-top: 0px; font-size: 12px;'>-0.003</div\n",
              "        ><div id='_tp_jzumpwtzlrvukjgjrwnq_ind_3'\n",
              "            style='display: inline; background: rgba(30.0, 136.0, 229.0, 0.22749059219647463); border-radius: 3px; padding: 0px'\n",
              "            onclick=\"\n",
              "            if (this.previousSibling.style.display == 'none') {\n",
              "                this.previousSibling.style.display = 'block';\n",
              "                this.parentNode.style.display = 'inline-block';\n",
              "            } else {\n",
              "                this.previousSibling.style.display = 'none';\n",
              "                this.parentNode.style.display = 'inline';\n",
              "            }\"\n",
              "            onmouseover=\"document.getElementById('_fb_jzumpwtzlrvukjgjrwnq_ind_3').style.opacity = 1; document.getElementById('_fs_jzumpwtzlrvukjgjrwnq_ind_3').style.opacity = 1;\"\n",
              "            onmouseout=\"document.getElementById('_fb_jzumpwtzlrvukjgjrwnq_ind_3').style.opacity = 0; document.getElementById('_fs_jzumpwtzlrvukjgjrwnq_ind_3').style.opacity = 0;\"\n",
              "        > you</div></div><div style='display: inline; text-align: center;'\n",
              "    ><div style='display: none; color: #999; padding-top: 0px; font-size: 12px;'>-0.0</div\n",
              "        ><div id='_tp_jzumpwtzlrvukjgjrwnq_ind_4'\n",
              "            style='display: inline; background: rgba(54.70588235294111, 122.49411764705886, 213.40784313725496, 0.0); border-radius: 3px; padding: 0px'\n",
              "            onclick=\"\n",
              "            if (this.previousSibling.style.display == 'none') {\n",
              "                this.previousSibling.style.display = 'block';\n",
              "                this.parentNode.style.display = 'inline-block';\n",
              "            } else {\n",
              "                this.previousSibling.style.display = 'none';\n",
              "                this.parentNode.style.display = 'inline';\n",
              "            }\"\n",
              "            onmouseover=\"document.getElementById('_fb_jzumpwtzlrvukjgjrwnq_ind_4').style.opacity = 1; document.getElementById('_fs_jzumpwtzlrvukjgjrwnq_ind_4').style.opacity = 1;\"\n",
              "            onmouseout=\"document.getElementById('_fb_jzumpwtzlrvukjgjrwnq_ind_4').style.opacity = 0; document.getElementById('_fs_jzumpwtzlrvukjgjrwnq_ind_4').style.opacity = 0;\"\n",
              "        ></div></div></div>"
            ],
            "text/plain": [
              "<IPython.core.display.HTML object>"
            ]
          },
          "metadata": {},
          "output_type": "display_data"
        },
        {
          "name": "stdout",
          "output_type": "stream",
          "text": [
            "\n",
            "Comment: You're so stupid\n"
          ]
        },
        {
          "data": {
            "text/html": [
              "<svg width=\"100%\" height=\"80px\"><line x1=\"0\" y1=\"33\" x2=\"100%\" y2=\"33\" style=\"stroke:rgb(150,150,150);stroke-width:1\" /><line x1=\"51.6596821772166%\" y1=\"33\" x2=\"51.6596821772166%\" y2=\"37\" style=\"stroke:rgb(150,150,150);stroke-width:1\" /><text x=\"51.6596821772166%\" y=\"27\" font-size=\"12px\" fill=\"rgb(120,120,120)\" dominant-baseline=\"bottom\" text-anchor=\"middle\">0.335</text><line x1=\"38.18939932637789%\" y1=\"33\" x2=\"38.18939932637789%\" y2=\"37\" style=\"stroke:rgb(150,150,150);stroke-width:1\" /><text x=\"38.18939932637789%\" y=\"27\" font-size=\"12px\" fill=\"rgb(120,120,120)\" dominant-baseline=\"bottom\" text-anchor=\"middle\">0.331</text><line x1=\"24.719116475539177%\" y1=\"33\" x2=\"24.719116475539177%\" y2=\"37\" style=\"stroke:rgb(150,150,150);stroke-width:1\" /><text x=\"24.719116475539177%\" y=\"27\" font-size=\"12px\" fill=\"rgb(120,120,120)\" dominant-baseline=\"bottom\" text-anchor=\"middle\">0.327</text><line x1=\"11.248833624700465%\" y1=\"33\" x2=\"11.248833624700465%\" y2=\"37\" style=\"stroke:rgb(150,150,150);stroke-width:1\" /><text x=\"11.248833624700465%\" y=\"27\" font-size=\"12px\" fill=\"rgb(120,120,120)\" dominant-baseline=\"bottom\" text-anchor=\"middle\">0.323</text><line x1=\"65.12996502805531%\" y1=\"33\" x2=\"65.12996502805531%\" y2=\"37\" style=\"stroke:rgb(150,150,150);stroke-width:1\" /><text x=\"65.12996502805531%\" y=\"27\" font-size=\"12px\" fill=\"rgb(120,120,120)\" dominant-baseline=\"bottom\" text-anchor=\"middle\">0.339</text><line x1=\"78.60024787889404%\" y1=\"33\" x2=\"78.60024787889404%\" y2=\"37\" style=\"stroke:rgb(150,150,150);stroke-width:1\" /><text x=\"78.60024787889404%\" y=\"27\" font-size=\"12px\" fill=\"rgb(120,120,120)\" dominant-baseline=\"bottom\" text-anchor=\"middle\">0.343</text><line x1=\"92.07053072973275%\" y1=\"33\" x2=\"92.07053072973275%\" y2=\"37\" style=\"stroke:rgb(150,150,150);stroke-width:1\" /><text x=\"92.07053072973275%\" y=\"27\" font-size=\"12px\" fill=\"rgb(120,120,120)\" dominant-baseline=\"bottom\" text-anchor=\"middle\">0.347</text><line x1=\"49.910812033329755%\" y1=\"33\" x2=\"49.910812033329755%\" y2=\"37\" style=\"stroke:rgb(150,150,150);stroke-width:1\" /><text x=\"49.910812033329755%\" y=\"27\" font-size=\"13px\" style=\"stroke:#ffffff;stroke-width:8px;\" fill=\"rgb(255,255,255)\" dominant-baseline=\"bottom\" text-anchor=\"middle\">0.334481</text><text x=\"49.910812033329755%\" y=\"27\" font-size=\"12px\" fill=\"rgb(120,120,120)\" dominant-baseline=\"bottom\" text-anchor=\"middle\">0.334481</text><text x=\"49.910812033329755%\" y=\"10\" font-size=\"12px\" fill=\"rgb(120,120,120)\" dominant-baseline=\"bottom\" text-anchor=\"middle\">base value</text><line x1=\"50.089154290963116%\" y1=\"33\" x2=\"50.089154290963116%\" y2=\"37\" style=\"stroke:rgb(150,150,150);stroke-width:1\" /><text x=\"50.089154290963116%\" y=\"27\" font-size=\"13px\" style=\"stroke:#ffffff;stroke-width:8px;\" font-weight=\"bold\" fill=\"rgb(255,255,255)\" dominant-baseline=\"bottom\" text-anchor=\"middle\">0.334534</text><text x=\"50.089154290963116%\" y=\"27\" font-size=\"13px\" font-weight=\"bold\" fill=\"rgb(0,0,0)\" dominant-baseline=\"bottom\" text-anchor=\"middle\">0.334534</text><text x=\"50.089154290963116%\" y=\"10\" font-size=\"12px\" fill=\"rgb(120,120,120)\" dominant-baseline=\"bottom\" text-anchor=\"middle\">f<tspan baseline-shift=\"sub\" font-size=\"8px\"></tspan>(inputs)</text><rect x=\"8.333330527024343%\" width=\"41.75582376393877%\" y=\"40\" height=\"18\" style=\"fill:rgb(255.0, 0.0, 81.08083606031792); stroke-width:0; stroke:rgb(0,0,0)\" /><line x1=\"8.366838698812378%\" x2=\"50.089154290963116%\" y1=\"60\" y2=\"60\" id=\"_fb_iwohmhprfgyazojmsqjf_ind_5\" style=\"stroke:rgb(255.0, 0.0, 81.08083606031792);stroke-width:2; opacity: 0\"/><text x=\"29.227996494887748%\" y=\"71\" font-size=\"12px\" id=\"_fs_iwohmhprfgyazojmsqjf_ind_5\" fill=\"rgb(255.0, 0.0, 81.08083606031792)\" style=\"opacity: 0\" dominant-baseline=\"middle\" text-anchor=\"middle\">0.012</text><svg x=\"8.366838698812378%\" y=\"40\" height=\"20\" width=\"41.722315592150736%\">  <svg x=\"0\" y=\"0\" width=\"100%\" height=\"100%\">    <text x=\"50%\" y=\"9\" font-size=\"12px\" fill=\"rgb(255,255,255)\" dominant-baseline=\"middle\" text-anchor=\"middle\">stupid</text>  </svg></svg><line x1=\"8.343191037329621%\" x2=\"8.366838698812378%\" y1=\"60\" y2=\"60\" id=\"_fb_iwohmhprfgyazojmsqjf_ind_6\" style=\"stroke:rgb(255.0, 0.0, 81.08083606031792);stroke-width:2; opacity: 0\"/><text x=\"8.355014868070999%\" y=\"71\" font-size=\"12px\" id=\"_fs_iwohmhprfgyazojmsqjf_ind_6\" fill=\"rgb(255.0, 0.0, 81.08083606031792)\" style=\"opacity: 0\" dominant-baseline=\"middle\" text-anchor=\"middle\">0.0</text><svg x=\"8.343191037329621%\" y=\"40\" height=\"20\" width=\"0.023647661482756988%\">  <svg x=\"0\" y=\"0\" width=\"100%\" height=\"100%\">    <text x=\"50%\" y=\"9\" font-size=\"12px\" fill=\"rgb(255,255,255)\" dominant-baseline=\"middle\" text-anchor=\"middle\"></text>  </svg></svg><line x1=\"8.333330527024343%\" x2=\"8.343191037329621%\" y1=\"60\" y2=\"60\" id=\"_fb_iwohmhprfgyazojmsqjf_ind_0\" style=\"stroke:rgb(255.0, 0.0, 81.08083606031792);stroke-width:2; opacity: 0\"/><text x=\"8.338260782176981%\" y=\"71\" font-size=\"12px\" id=\"_fs_iwohmhprfgyazojmsqjf_ind_0\" fill=\"rgb(255.0, 0.0, 81.08083606031792)\" style=\"opacity: 0\" dominant-baseline=\"middle\" text-anchor=\"middle\">0.0</text><svg x=\"8.333330527024343%\" y=\"40\" height=\"20\" width=\"0.00986051030527868%\">  <svg x=\"0\" y=\"0\" width=\"100%\" height=\"100%\">    <text x=\"50%\" y=\"9\" font-size=\"12px\" fill=\"rgb(255,255,255)\" dominant-baseline=\"middle\" text-anchor=\"middle\"></text>  </svg></svg><g transform=\"translate(0,0)\">  <svg x=\"8.366838698812378%\" y=\"40\" height=\"18\" overflow=\"visible\" width=\"30\">    <path d=\"M 0 -9 l 6 18 L 0 25\" fill=\"none\" style=\"stroke:rgb(255.0, 0.0, 81.08083606031792);stroke-width:2\" />  </svg></g><g transform=\"translate(2,0)\">  <svg x=\"8.366838698812378%\" y=\"40\" height=\"18\" overflow=\"visible\" width=\"30\">    <path d=\"M 0 -9 l 6 18 L 0 25\" fill=\"none\" style=\"stroke:rgb(255.0, 0.0, 81.08083606031792);stroke-width:2\" />  </svg></g><g transform=\"translate(4,0)\">  <svg x=\"8.366838698812378%\" y=\"40\" height=\"18\" overflow=\"visible\" width=\"30\">    <path d=\"M 0 -9 l 6 18 L 0 25\" fill=\"none\" style=\"stroke:rgb(255.0, 0.0, 81.08083606031792);stroke-width:2\" />  </svg></g><g transform=\"translate(6,0)\">  <svg x=\"8.366838698812378%\" y=\"40\" height=\"18\" overflow=\"visible\" width=\"30\">    <path d=\"M 0 -9 l 6 18 L 0 25\" fill=\"none\" style=\"stroke:rgb(255.0, 0.0, 81.08083606031792);stroke-width:2\" />  </svg></g><g transform=\"translate(-8,0)\">  <svg x=\"8.366838698812378%\" y=\"40\" height=\"18\" overflow=\"visible\" width=\"30\">    <path d=\"M 0 -9 l 6 18 L 0 25\" fill=\"none\" style=\"stroke:rgb(255.0, 0.0, 81.08083606031792);stroke-width:2\" />  </svg></g><g transform=\"translate(-6,0)\">  <svg x=\"8.366838698812378%\" y=\"40\" height=\"18\" overflow=\"visible\" width=\"30\">    <path d=\"M 0 -9 l 6 18 L 0 25\" fill=\"none\" style=\"stroke:rgb(255.0, 0.0, 81.08083606031792);stroke-width:2\" />  </svg></g><g transform=\"translate(-4,0)\">  <svg x=\"8.366838698812378%\" y=\"40\" height=\"18\" overflow=\"visible\" width=\"30\">    <path d=\"M 0 -9 l 6 18 L 0 25\" fill=\"none\" style=\"stroke:rgb(255.0, 0.0, 81.08083606031792);stroke-width:2\" />  </svg></g><g transform=\"translate(-2,0)\">  <svg x=\"8.366838698812378%\" y=\"40\" height=\"18\" overflow=\"visible\" width=\"30\">    <path d=\"M 0 -9 l 6 18 L 0 25\" fill=\"none\" style=\"stroke:rgb(255.0, 0.0, 81.08083606031792);stroke-width:2\" />  </svg></g><g transform=\"translate(0,0)\">  <svg x=\"8.343191037329621%\" y=\"40\" height=\"18\" overflow=\"visible\" width=\"30\">    <path d=\"M 0 -9 l 6 18 L 0 25\" fill=\"none\" style=\"stroke:rgb(255.0, 0.0, 81.08083606031792);stroke-width:2\" />  </svg></g><g transform=\"translate(2,0)\">  <svg x=\"8.343191037329621%\" y=\"40\" height=\"18\" overflow=\"visible\" width=\"30\">    <path d=\"M 0 -9 l 6 18 L 0 25\" fill=\"none\" style=\"stroke:rgb(255.0, 0.0, 81.08083606031792);stroke-width:2\" />  </svg></g><g transform=\"translate(4,0)\">  <svg x=\"8.343191037329621%\" y=\"40\" height=\"18\" overflow=\"visible\" width=\"30\">    <path d=\"M 0 -9 l 6 18 L 0 25\" fill=\"none\" style=\"stroke:rgb(255.0, 0.0, 81.08083606031792);stroke-width:2\" />  </svg></g><g transform=\"translate(6,0)\">  <svg x=\"8.343191037329621%\" y=\"40\" height=\"18\" overflow=\"visible\" width=\"30\">    <path d=\"M 0 -9 l 6 18 L 0 25\" fill=\"none\" style=\"stroke:rgb(255.0, 0.0, 81.08083606031792);stroke-width:2\" />  </svg></g><g transform=\"translate(-8,0)\">  <svg x=\"8.343191037329621%\" y=\"40\" height=\"18\" overflow=\"visible\" width=\"30\">    <path d=\"M 0 -9 l 6 18 L 0 25\" fill=\"none\" style=\"stroke:rgb(255.0, 0.0, 81.08083606031792);stroke-width:2\" />  </svg></g><g transform=\"translate(-6,0)\">  <svg x=\"8.343191037329621%\" y=\"40\" height=\"18\" overflow=\"visible\" width=\"30\">    <path d=\"M 0 -9 l 6 18 L 0 25\" fill=\"none\" style=\"stroke:rgb(255.0, 0.0, 81.08083606031792);stroke-width:2\" />  </svg></g><g transform=\"translate(-4,0)\">  <svg x=\"8.343191037329621%\" y=\"40\" height=\"18\" overflow=\"visible\" width=\"30\">    <path d=\"M 0 -9 l 6 18 L 0 25\" fill=\"none\" style=\"stroke:rgb(255.0, 0.0, 81.08083606031792);stroke-width:2\" />  </svg></g><g transform=\"translate(-2,0)\">  <svg x=\"8.343191037329621%\" y=\"40\" height=\"18\" overflow=\"visible\" width=\"30\">    <path d=\"M 0 -9 l 6 18 L 0 25\" fill=\"none\" style=\"stroke:rgb(255.0, 0.0, 81.08083606031792);stroke-width:2\" />  </svg></g><rect transform=\"translate(-8,0)\" x=\"50.089154290963116%\" y=\"40\" width=\"8\" height=\"18\" style=\"fill:rgb(255.0, 0.0, 81.08083606031792)\"/><g transform=\"translate(-11.5,0)\">  <svg x=\"8.333330527024343%\" y=\"40\" height=\"18\" overflow=\"visible\" width=\"30\">    <path d=\"M 10 -9 l 6 18 L 10 25 L 0 25 L 0 -9\" fill=\"#ffffff\" style=\"stroke:rgb(255,255,255);stroke-width:2\" />  </svg></g><g transform=\"translate(-1.5,0)\">  <svg x=\"50.089154290963116%\" y=\"40\" height=\"18\" overflow=\"visible\" width=\"30\">    <path d=\"M 0 -9 l 6 18 L 0 25\" fill=\"none\" style=\"stroke:rgb(255, 195, 213);stroke-width:2\" />  </svg></g><rect x=\"8.366838698812378%\" y=\"40\" height=\"20\" width=\"41.722315592150736%\"      onmouseover=\"document.getElementById('_tp_iwohmhprfgyazojmsqjf_ind_5').style.textDecoration = 'underline';document.getElementById('_fs_iwohmhprfgyazojmsqjf_ind_5').style.opacity = 1;document.getElementById('_fb_iwohmhprfgyazojmsqjf_ind_5').style.opacity = 1;\"      onmouseout=\"document.getElementById('_tp_iwohmhprfgyazojmsqjf_ind_5').style.textDecoration = 'none';document.getElementById('_fs_iwohmhprfgyazojmsqjf_ind_5').style.opacity = 0;document.getElementById('_fb_iwohmhprfgyazojmsqjf_ind_5').style.opacity = 0;\" style=\"fill:rgb(0,0,0,0)\" /><g transform=\"translate(-1.5,0)\">  <svg x=\"8.366838698812378%\" y=\"40\" height=\"18\" overflow=\"visible\" width=\"30\">    <path d=\"M 0 -9 l 6 18 L 0 25\" fill=\"none\" style=\"stroke:rgb(255, 195, 213);stroke-width:2\" />  </svg></g><rect x=\"8.343191037329621%\" y=\"40\" height=\"20\" width=\"0.023647661482756988%\"      onmouseover=\"document.getElementById('_tp_iwohmhprfgyazojmsqjf_ind_6').style.textDecoration = 'underline';document.getElementById('_fs_iwohmhprfgyazojmsqjf_ind_6').style.opacity = 1;document.getElementById('_fb_iwohmhprfgyazojmsqjf_ind_6').style.opacity = 1;\"      onmouseout=\"document.getElementById('_tp_iwohmhprfgyazojmsqjf_ind_6').style.textDecoration = 'none';document.getElementById('_fs_iwohmhprfgyazojmsqjf_ind_6').style.opacity = 0;document.getElementById('_fb_iwohmhprfgyazojmsqjf_ind_6').style.opacity = 0;\" style=\"fill:rgb(0,0,0,0)\" /><rect x=\"8.333330527024343%\" y=\"40\" height=\"20\" width=\"0.00986051030527868%\"      onmouseover=\"document.getElementById('_tp_iwohmhprfgyazojmsqjf_ind_0').style.textDecoration = 'underline';document.getElementById('_fs_iwohmhprfgyazojmsqjf_ind_0').style.opacity = 1;document.getElementById('_fb_iwohmhprfgyazojmsqjf_ind_0').style.opacity = 1;\"      onmouseout=\"document.getElementById('_tp_iwohmhprfgyazojmsqjf_ind_0').style.textDecoration = 'none';document.getElementById('_fs_iwohmhprfgyazojmsqjf_ind_0').style.opacity = 0;document.getElementById('_fb_iwohmhprfgyazojmsqjf_ind_0').style.opacity = 0;\" style=\"fill:rgb(0,0,0,0)\" /><rect x=\"50.089154290963116%\" width=\"41.57748150630541%\" y=\"40\" height=\"18\" style=\"fill:rgb(0.0, 138.56128015770727, 250.76166088685727); stroke-width:0; stroke:rgb(0,0,0)\" /><line x1=\"50.089154290963116%\" x2=\"69.1168154307004%\" y1=\"60\" y2=\"60\" id=\"_fb_iwohmhprfgyazojmsqjf_ind_1\" style=\"stroke:rgb(0.0, 138.56128015770727, 250.76166088685727);stroke-width:2; opacity: 0\"/><text x=\"59.602984860831754%\" y=\"71\" font-size=\"12px\" fill=\"rgb(0.0, 138.56128015770727, 250.76166088685727)\" id=\"_fs_iwohmhprfgyazojmsqjf_ind_1\" style=\"opacity: 0\" dominant-baseline=\"middle\" text-anchor=\"middle\">-0.006</text><svg x=\"50.089154290963116%\" y=\"40\" height=\"20\" width=\"19.027661139737283%\">  <svg x=\"0\" y=\"0\" width=\"100%\" height=\"100%\">    <text x=\"50%\" y=\"9\" font-size=\"12px\" fill=\"rgb(255,255,255)\" dominant-baseline=\"middle\" text-anchor=\"middle\">you</text>  </svg></svg><line x1=\"69.1168154307004%\" x2=\"78.97016243905107%\" y1=\"60\" y2=\"60\" id=\"_fb_iwohmhprfgyazojmsqjf_ind_4\" style=\"stroke:rgb(0.0, 138.56128015770727, 250.76166088685727);stroke-width:2; opacity: 0\"/><text x=\"74.04348893487574%\" y=\"71\" font-size=\"12px\" fill=\"rgb(0.0, 138.56128015770727, 250.76166088685727)\" id=\"_fs_iwohmhprfgyazojmsqjf_ind_4\" style=\"opacity: 0\" dominant-baseline=\"middle\" text-anchor=\"middle\">-0.003</text><svg x=\"69.1168154307004%\" y=\"40\" height=\"20\" width=\"9.853347008350667%\">  <svg x=\"0\" y=\"0\" width=\"100%\" height=\"100%\">    <text x=\"50%\" y=\"9\" font-size=\"12px\" fill=\"rgb(255,255,255)\" dominant-baseline=\"middle\" text-anchor=\"middle\">so</text>  </svg></svg><line x1=\"78.97016243905107%\" x2=\"87.31153944356888%\" y1=\"60\" y2=\"60\" id=\"_fb_iwohmhprfgyazojmsqjf_ind_2\" style=\"stroke:rgb(0.0, 138.56128015770727, 250.76166088685727);stroke-width:2; opacity: 0\"/><text x=\"83.14085094130996%\" y=\"71\" font-size=\"12px\" fill=\"rgb(0.0, 138.56128015770727, 250.76166088685727)\" id=\"_fs_iwohmhprfgyazojmsqjf_ind_2\" style=\"opacity: 0\" dominant-baseline=\"middle\" text-anchor=\"middle\">-0.002</text><svg x=\"78.97016243905107%\" y=\"40\" height=\"20\" width=\"8.34137700451781%\">  <svg x=\"0\" y=\"0\" width=\"100%\" height=\"100%\">    <text x=\"50%\" y=\"9\" font-size=\"12px\" fill=\"rgb(255,255,255)\" dominant-baseline=\"middle\" text-anchor=\"middle\">'</text>  </svg></svg><line x1=\"87.31153944356888%\" x2=\"91.66663579726853%\" y1=\"60\" y2=\"60\" id=\"_fb_iwohmhprfgyazojmsqjf_ind_3\" style=\"stroke:rgb(0.0, 138.56128015770727, 250.76166088685727);stroke-width:2; opacity: 0\"/><text x=\"89.4890876204187%\" y=\"71\" font-size=\"12px\" fill=\"rgb(0.0, 138.56128015770727, 250.76166088685727)\" id=\"_fs_iwohmhprfgyazojmsqjf_ind_3\" style=\"opacity: 0\" dominant-baseline=\"middle\" text-anchor=\"middle\">-0.001</text><svg x=\"87.31153944356888%\" y=\"40\" height=\"20\" width=\"4.3550963536996505%\">  <svg x=\"0\" y=\"0\" width=\"100%\" height=\"100%\">    <text x=\"50%\" y=\"9\" font-size=\"12px\" fill=\"rgb(255,255,255)\" dominant-baseline=\"middle\" text-anchor=\"middle\">re</text>  </svg></svg><g transform=\"translate(-8,0)\">  <svg x=\"69.1168154307004%\" y=\"40\" height=\"18\" overflow=\"visible\" width=\"30\">    <path d=\"M 8 -9 l -6 18 L 8 25\" fill=\"none\" style=\"stroke:rgb(0.0, 138.56128015770727, 250.76166088685727);stroke-width:2\" />  </svg></g><g transform=\"translate(-10,0)\">  <svg x=\"69.1168154307004%\" y=\"40\" height=\"18\" overflow=\"visible\" width=\"30\">    <path d=\"M 8 -9 l -6 18 L 8 25\" fill=\"none\" style=\"stroke:rgb(0.0, 138.56128015770727, 250.76166088685727);stroke-width:2\" />  </svg></g><g transform=\"translate(-12,0)\">  <svg x=\"69.1168154307004%\" y=\"40\" height=\"18\" overflow=\"visible\" width=\"30\">    <path d=\"M 8 -9 l -6 18 L 8 25\" fill=\"none\" style=\"stroke:rgb(0.0, 138.56128015770727, 250.76166088685727);stroke-width:2\" />  </svg></g><g transform=\"translate(-14,0)\">  <svg x=\"69.1168154307004%\" y=\"40\" height=\"18\" overflow=\"visible\" width=\"30\">    <path d=\"M 8 -9 l -6 18 L 8 25\" fill=\"none\" style=\"stroke:rgb(0.0, 138.56128015770727, 250.76166088685727);stroke-width:2\" />  </svg></g><g transform=\"translate(2,0)\">  <svg x=\"69.1168154307004%\" y=\"40\" height=\"18\" overflow=\"visible\" width=\"30\">    <path d=\"M 8 -9 l -6 18 L 8 25\" fill=\"none\" style=\"stroke:rgb(0.0, 138.56128015770727, 250.76166088685727);stroke-width:2\" />  </svg></g><g transform=\"translate(0,0)\">  <svg x=\"69.1168154307004%\" y=\"40\" height=\"18\" overflow=\"visible\" width=\"30\">    <path d=\"M 8 -9 l -6 18 L 8 25\" fill=\"none\" style=\"stroke:rgb(0.0, 138.56128015770727, 250.76166088685727);stroke-width:2\" />  </svg></g><g transform=\"translate(-2,0)\">  <svg x=\"69.1168154307004%\" y=\"40\" height=\"18\" overflow=\"visible\" width=\"30\">    <path d=\"M 8 -9 l -6 18 L 8 25\" fill=\"none\" style=\"stroke:rgb(0.0, 138.56128015770727, 250.76166088685727);stroke-width:2\" />  </svg></g><g transform=\"translate(-4,0)\">  <svg x=\"69.1168154307004%\" y=\"40\" height=\"18\" overflow=\"visible\" width=\"30\">    <path d=\"M 8 -9 l -6 18 L 8 25\" fill=\"none\" style=\"stroke:rgb(0.0, 138.56128015770727, 250.76166088685727);stroke-width:2\" />  </svg></g><g transform=\"translate(-8,0)\">  <svg x=\"78.97016243905107%\" y=\"40\" height=\"18\" overflow=\"visible\" width=\"30\">    <path d=\"M 8 -9 l -6 18 L 8 25\" fill=\"none\" style=\"stroke:rgb(0.0, 138.56128015770727, 250.76166088685727);stroke-width:2\" />  </svg></g><g transform=\"translate(-10,0)\">  <svg x=\"78.97016243905107%\" y=\"40\" height=\"18\" overflow=\"visible\" width=\"30\">    <path d=\"M 8 -9 l -6 18 L 8 25\" fill=\"none\" style=\"stroke:rgb(0.0, 138.56128015770727, 250.76166088685727);stroke-width:2\" />  </svg></g><g transform=\"translate(-12,0)\">  <svg x=\"78.97016243905107%\" y=\"40\" height=\"18\" overflow=\"visible\" width=\"30\">    <path d=\"M 8 -9 l -6 18 L 8 25\" fill=\"none\" style=\"stroke:rgb(0.0, 138.56128015770727, 250.76166088685727);stroke-width:2\" />  </svg></g><g transform=\"translate(-14,0)\">  <svg x=\"78.97016243905107%\" y=\"40\" height=\"18\" overflow=\"visible\" width=\"30\">    <path d=\"M 8 -9 l -6 18 L 8 25\" fill=\"none\" style=\"stroke:rgb(0.0, 138.56128015770727, 250.76166088685727);stroke-width:2\" />  </svg></g><g transform=\"translate(2,0)\">  <svg x=\"78.97016243905107%\" y=\"40\" height=\"18\" overflow=\"visible\" width=\"30\">    <path d=\"M 8 -9 l -6 18 L 8 25\" fill=\"none\" style=\"stroke:rgb(0.0, 138.56128015770727, 250.76166088685727);stroke-width:2\" />  </svg></g><g transform=\"translate(0,0)\">  <svg x=\"78.97016243905107%\" y=\"40\" height=\"18\" overflow=\"visible\" width=\"30\">    <path d=\"M 8 -9 l -6 18 L 8 25\" fill=\"none\" style=\"stroke:rgb(0.0, 138.56128015770727, 250.76166088685727);stroke-width:2\" />  </svg></g><g transform=\"translate(-2,0)\">  <svg x=\"78.97016243905107%\" y=\"40\" height=\"18\" overflow=\"visible\" width=\"30\">    <path d=\"M 8 -9 l -6 18 L 8 25\" fill=\"none\" style=\"stroke:rgb(0.0, 138.56128015770727, 250.76166088685727);stroke-width:2\" />  </svg></g><g transform=\"translate(-4,0)\">  <svg x=\"78.97016243905107%\" y=\"40\" height=\"18\" overflow=\"visible\" width=\"30\">    <path d=\"M 8 -9 l -6 18 L 8 25\" fill=\"none\" style=\"stroke:rgb(0.0, 138.56128015770727, 250.76166088685727);stroke-width:2\" />  </svg></g><g transform=\"translate(-8,0)\">  <svg x=\"87.31153944356888%\" y=\"40\" height=\"18\" overflow=\"visible\" width=\"30\">    <path d=\"M 8 -9 l -6 18 L 8 25\" fill=\"none\" style=\"stroke:rgb(0.0, 138.56128015770727, 250.76166088685727);stroke-width:2\" />  </svg></g><g transform=\"translate(-10,0)\">  <svg x=\"87.31153944356888%\" y=\"40\" height=\"18\" overflow=\"visible\" width=\"30\">    <path d=\"M 8 -9 l -6 18 L 8 25\" fill=\"none\" style=\"stroke:rgb(0.0, 138.56128015770727, 250.76166088685727);stroke-width:2\" />  </svg></g><g transform=\"translate(-12,0)\">  <svg x=\"87.31153944356888%\" y=\"40\" height=\"18\" overflow=\"visible\" width=\"30\">    <path d=\"M 8 -9 l -6 18 L 8 25\" fill=\"none\" style=\"stroke:rgb(0.0, 138.56128015770727, 250.76166088685727);stroke-width:2\" />  </svg></g><g transform=\"translate(-14,0)\">  <svg x=\"87.31153944356888%\" y=\"40\" height=\"18\" overflow=\"visible\" width=\"30\">    <path d=\"M 8 -9 l -6 18 L 8 25\" fill=\"none\" style=\"stroke:rgb(0.0, 138.56128015770727, 250.76166088685727);stroke-width:2\" />  </svg></g><g transform=\"translate(2,0)\">  <svg x=\"87.31153944356888%\" y=\"40\" height=\"18\" overflow=\"visible\" width=\"30\">    <path d=\"M 8 -9 l -6 18 L 8 25\" fill=\"none\" style=\"stroke:rgb(0.0, 138.56128015770727, 250.76166088685727);stroke-width:2\" />  </svg></g><g transform=\"translate(0,0)\">  <svg x=\"87.31153944356888%\" y=\"40\" height=\"18\" overflow=\"visible\" width=\"30\">    <path d=\"M 8 -9 l -6 18 L 8 25\" fill=\"none\" style=\"stroke:rgb(0.0, 138.56128015770727, 250.76166088685727);stroke-width:2\" />  </svg></g><g transform=\"translate(-2,0)\">  <svg x=\"87.31153944356888%\" y=\"40\" height=\"18\" overflow=\"visible\" width=\"30\">    <path d=\"M 8 -9 l -6 18 L 8 25\" fill=\"none\" style=\"stroke:rgb(0.0, 138.56128015770727, 250.76166088685727);stroke-width:2\" />  </svg></g><g transform=\"translate(-4,0)\">  <svg x=\"87.31153944356888%\" y=\"40\" height=\"18\" overflow=\"visible\" width=\"30\">    <path d=\"M 8 -9 l -6 18 L 8 25\" fill=\"none\" style=\"stroke:rgb(0.0, 138.56128015770727, 250.76166088685727);stroke-width:2\" />  </svg></g><rect transform=\"translate(0,0)\" x=\"50.089154290963116%\" y=\"40\" width=\"8\" height=\"18\" style=\"fill:rgb(0.0, 138.56128015770727, 250.76166088685727)\"/><g transform=\"translate(-6.0,0)\">  <svg x=\"91.66663579726853%\" y=\"40\" height=\"18\" overflow=\"visible\" width=\"30\">    <path d=\"M 8 -9 l -6 18 L 8 25 L 20 25 L 20 -9\" fill=\"#ffffff\" style=\"stroke:rgb(255,255,255);stroke-width:2\" />  </svg></g><g transform=\"translate(-6.0,0)\">  <svg x=\"69.1168154307004%\" y=\"40\" height=\"18\" overflow=\"visible\" width=\"30\">    <path d=\"M 8 -9 l -6 18 L 8 25\" fill=\"none\" style=\"stroke:rgb(208, 230, 250);stroke-width:2\" />  </svg></g><rect x=\"50.089154290963116%\" y=\"40\" height=\"20\" width=\"19.027661139737283%\"      onmouseover=\"document.getElementById('_tp_iwohmhprfgyazojmsqjf_ind_1').style.textDecoration = 'underline';document.getElementById('_fs_iwohmhprfgyazojmsqjf_ind_1').style.opacity = 1;document.getElementById('_fb_iwohmhprfgyazojmsqjf_ind_1').style.opacity = 1;\"      onmouseout=\"document.getElementById('_tp_iwohmhprfgyazojmsqjf_ind_1').style.textDecoration = 'none';document.getElementById('_fs_iwohmhprfgyazojmsqjf_ind_1').style.opacity = 0;document.getElementById('_fb_iwohmhprfgyazojmsqjf_ind_1').style.opacity = 0;\" style=\"fill:rgb(0,0,0,0)\" /><g transform=\"translate(-6.0,0)\">  <svg x=\"78.97016243905107%\" y=\"40\" height=\"18\" overflow=\"visible\" width=\"30\">    <path d=\"M 8 -9 l -6 18 L 8 25\" fill=\"none\" style=\"stroke:rgb(208, 230, 250);stroke-width:2\" />  </svg></g><rect x=\"69.1168154307004%\" y=\"40\" height=\"20\" width=\"9.853347008350667%\"      onmouseover=\"document.getElementById('_tp_iwohmhprfgyazojmsqjf_ind_4').style.textDecoration = 'underline';document.getElementById('_fs_iwohmhprfgyazojmsqjf_ind_4').style.opacity = 1;document.getElementById('_fb_iwohmhprfgyazojmsqjf_ind_4').style.opacity = 1;\"      onmouseout=\"document.getElementById('_tp_iwohmhprfgyazojmsqjf_ind_4').style.textDecoration = 'none';document.getElementById('_fs_iwohmhprfgyazojmsqjf_ind_4').style.opacity = 0;document.getElementById('_fb_iwohmhprfgyazojmsqjf_ind_4').style.opacity = 0;\" style=\"fill:rgb(0,0,0,0)\" /><g transform=\"translate(-6.0,0)\">  <svg x=\"87.31153944356888%\" y=\"40\" height=\"18\" overflow=\"visible\" width=\"30\">    <path d=\"M 8 -9 l -6 18 L 8 25\" fill=\"none\" style=\"stroke:rgb(208, 230, 250);stroke-width:2\" />  </svg></g><rect x=\"78.97016243905107%\" y=\"40\" height=\"20\" width=\"8.34137700451781%\"      onmouseover=\"document.getElementById('_tp_iwohmhprfgyazojmsqjf_ind_2').style.textDecoration = 'underline';document.getElementById('_fs_iwohmhprfgyazojmsqjf_ind_2').style.opacity = 1;document.getElementById('_fb_iwohmhprfgyazojmsqjf_ind_2').style.opacity = 1;\"      onmouseout=\"document.getElementById('_tp_iwohmhprfgyazojmsqjf_ind_2').style.textDecoration = 'none';document.getElementById('_fs_iwohmhprfgyazojmsqjf_ind_2').style.opacity = 0;document.getElementById('_fb_iwohmhprfgyazojmsqjf_ind_2').style.opacity = 0;\" style=\"fill:rgb(0,0,0,0)\" /><rect x=\"87.31153944356888%\" y=\"40\" height=\"20\" width=\"4.3550963536996505%\"      onmouseover=\"document.getElementById('_tp_iwohmhprfgyazojmsqjf_ind_3').style.textDecoration = 'underline';document.getElementById('_fs_iwohmhprfgyazojmsqjf_ind_3').style.opacity = 1;document.getElementById('_fb_iwohmhprfgyazojmsqjf_ind_3').style.opacity = 1;\"      onmouseout=\"document.getElementById('_tp_iwohmhprfgyazojmsqjf_ind_3').style.textDecoration = 'none';document.getElementById('_fs_iwohmhprfgyazojmsqjf_ind_3').style.opacity = 0;document.getElementById('_fb_iwohmhprfgyazojmsqjf_ind_3').style.opacity = 0;\" style=\"fill:rgb(0,0,0,0)\" /></svg><div align='center'><div style=\"color: rgb(120,120,120); font-size: 12px; margin-top: -15px;\">inputs</div><div style='display: inline; text-align: center;'\n",
              "    ><div style='display: none; color: #999; padding-top: 0px; font-size: 12px;'>0.0</div\n",
              "        ><div id='_tp_iwohmhprfgyazojmsqjf_ind_0'\n",
              "            style='display: inline; background: rgba(230.2941176470614, 26.505882352939775, 102.59215686274348, 0.0); border-radius: 3px; padding: 0px'\n",
              "            onclick=\"\n",
              "            if (this.previousSibling.style.display == 'none') {\n",
              "                this.previousSibling.style.display = 'block';\n",
              "                this.parentNode.style.display = 'inline-block';\n",
              "            } else {\n",
              "                this.previousSibling.style.display = 'none';\n",
              "                this.parentNode.style.display = 'inline';\n",
              "            }\"\n",
              "            onmouseover=\"document.getElementById('_fb_iwohmhprfgyazojmsqjf_ind_0').style.opacity = 1; document.getElementById('_fs_iwohmhprfgyazojmsqjf_ind_0').style.opacity = 1;\"\n",
              "            onmouseout=\"document.getElementById('_fb_iwohmhprfgyazojmsqjf_ind_0').style.opacity = 0; document.getElementById('_fs_iwohmhprfgyazojmsqjf_ind_0').style.opacity = 0;\"\n",
              "        ></div></div><div style='display: inline; text-align: center;'\n",
              "    ><div style='display: none; color: #999; padding-top: 0px; font-size: 12px;'>-0.006</div\n",
              "        ><div id='_tp_iwohmhprfgyazojmsqjf_ind_1'\n",
              "            style='display: inline; background: rgba(30.0, 136.0, 229.0, 0.4560903149138443); border-radius: 3px; padding: 0px'\n",
              "            onclick=\"\n",
              "            if (this.previousSibling.style.display == 'none') {\n",
              "                this.previousSibling.style.display = 'block';\n",
              "                this.parentNode.style.display = 'inline-block';\n",
              "            } else {\n",
              "                this.previousSibling.style.display = 'none';\n",
              "                this.parentNode.style.display = 'inline';\n",
              "            }\"\n",
              "            onmouseover=\"document.getElementById('_fb_iwohmhprfgyazojmsqjf_ind_1').style.opacity = 1; document.getElementById('_fs_iwohmhprfgyazojmsqjf_ind_1').style.opacity = 1;\"\n",
              "            onmouseout=\"document.getElementById('_fb_iwohmhprfgyazojmsqjf_ind_1').style.opacity = 0; document.getElementById('_fs_iwohmhprfgyazojmsqjf_ind_1').style.opacity = 0;\"\n",
              "        > you</div></div><div style='display: inline; text-align: center;'\n",
              "    ><div style='display: none; color: #999; padding-top: 0px; font-size: 12px;'>-0.002</div\n",
              "        ><div id='_tp_iwohmhprfgyazojmsqjf_ind_2'\n",
              "            style='display: inline; background: rgba(30.0, 136.0, 229.0, 0.1959595959595959); border-radius: 3px; padding: 0px'\n",
              "            onclick=\"\n",
              "            if (this.previousSibling.style.display == 'none') {\n",
              "                this.previousSibling.style.display = 'block';\n",
              "                this.parentNode.style.display = 'inline-block';\n",
              "            } else {\n",
              "                this.previousSibling.style.display = 'none';\n",
              "                this.parentNode.style.display = 'inline';\n",
              "            }\"\n",
              "            onmouseover=\"document.getElementById('_fb_iwohmhprfgyazojmsqjf_ind_2').style.opacity = 1; document.getElementById('_fs_iwohmhprfgyazojmsqjf_ind_2').style.opacity = 1;\"\n",
              "            onmouseout=\"document.getElementById('_fb_iwohmhprfgyazojmsqjf_ind_2').style.opacity = 0; document.getElementById('_fs_iwohmhprfgyazojmsqjf_ind_2').style.opacity = 0;\"\n",
              "        > '</div></div><div style='display: inline; text-align: center;'\n",
              "    ><div style='display: none; color: #999; padding-top: 0px; font-size: 12px;'>-0.001</div\n",
              "        ><div id='_tp_iwohmhprfgyazojmsqjf_ind_3'\n",
              "            style='display: inline; background: rgba(30.0, 136.0, 229.0, 0.10136660724896014); border-radius: 3px; padding: 0px'\n",
              "            onclick=\"\n",
              "            if (this.previousSibling.style.display == 'none') {\n",
              "                this.previousSibling.style.display = 'block';\n",
              "                this.parentNode.style.display = 'inline-block';\n",
              "            } else {\n",
              "                this.previousSibling.style.display = 'none';\n",
              "                this.parentNode.style.display = 'inline';\n",
              "            }\"\n",
              "            onmouseover=\"document.getElementById('_fb_iwohmhprfgyazojmsqjf_ind_3').style.opacity = 1; document.getElementById('_fs_iwohmhprfgyazojmsqjf_ind_3').style.opacity = 1;\"\n",
              "            onmouseout=\"document.getElementById('_fb_iwohmhprfgyazojmsqjf_ind_3').style.opacity = 0; document.getElementById('_fs_iwohmhprfgyazojmsqjf_ind_3').style.opacity = 0;\"\n",
              "        > re</div></div><div style='display: inline; text-align: center;'\n",
              "    ><div style='display: none; color: #999; padding-top: 0px; font-size: 12px;'>-0.003</div\n",
              "        ><div id='_tp_iwohmhprfgyazojmsqjf_ind_4'\n",
              "            style='display: inline; background: rgba(30.0, 136.0, 229.0, 0.23537334125569417); border-radius: 3px; padding: 0px'\n",
              "            onclick=\"\n",
              "            if (this.previousSibling.style.display == 'none') {\n",
              "                this.previousSibling.style.display = 'block';\n",
              "                this.parentNode.style.display = 'inline-block';\n",
              "            } else {\n",
              "                this.previousSibling.style.display = 'none';\n",
              "                this.parentNode.style.display = 'inline';\n",
              "            }\"\n",
              "            onmouseover=\"document.getElementById('_fb_iwohmhprfgyazojmsqjf_ind_4').style.opacity = 1; document.getElementById('_fs_iwohmhprfgyazojmsqjf_ind_4').style.opacity = 1;\"\n",
              "            onmouseout=\"document.getElementById('_fb_iwohmhprfgyazojmsqjf_ind_4').style.opacity = 0; document.getElementById('_fs_iwohmhprfgyazojmsqjf_ind_4').style.opacity = 0;\"\n",
              "        > so</div></div><div style='display: inline; text-align: center;'\n",
              "    ><div style='display: none; color: #999; padding-top: 0px; font-size: 12px;'>0.012</div\n",
              "        ><div id='_tp_iwohmhprfgyazojmsqjf_ind_5'\n",
              "            style='display: inline; background: rgba(255.0, 13.0, 87.0, 1.0); border-radius: 3px; padding: 0px'\n",
              "            onclick=\"\n",
              "            if (this.previousSibling.style.display == 'none') {\n",
              "                this.previousSibling.style.display = 'block';\n",
              "                this.parentNode.style.display = 'inline-block';\n",
              "            } else {\n",
              "                this.previousSibling.style.display = 'none';\n",
              "                this.parentNode.style.display = 'inline';\n",
              "            }\"\n",
              "            onmouseover=\"document.getElementById('_fb_iwohmhprfgyazojmsqjf_ind_5').style.opacity = 1; document.getElementById('_fs_iwohmhprfgyazojmsqjf_ind_5').style.opacity = 1;\"\n",
              "            onmouseout=\"document.getElementById('_fb_iwohmhprfgyazojmsqjf_ind_5').style.opacity = 0; document.getElementById('_fs_iwohmhprfgyazojmsqjf_ind_5').style.opacity = 0;\"\n",
              "        > stupid</div></div><div style='display: inline; text-align: center;'\n",
              "    ><div style='display: none; color: #999; padding-top: 0px; font-size: 12px;'>0.0</div\n",
              "        ><div id='_tp_iwohmhprfgyazojmsqjf_ind_6'\n",
              "            style='display: inline; background: rgba(230.2941176470614, 26.505882352939775, 102.59215686274348, 0.0); border-radius: 3px; padding: 0px'\n",
              "            onclick=\"\n",
              "            if (this.previousSibling.style.display == 'none') {\n",
              "                this.previousSibling.style.display = 'block';\n",
              "                this.parentNode.style.display = 'inline-block';\n",
              "            } else {\n",
              "                this.previousSibling.style.display = 'none';\n",
              "                this.parentNode.style.display = 'inline';\n",
              "            }\"\n",
              "            onmouseover=\"document.getElementById('_fb_iwohmhprfgyazojmsqjf_ind_6').style.opacity = 1; document.getElementById('_fs_iwohmhprfgyazojmsqjf_ind_6').style.opacity = 1;\"\n",
              "            onmouseout=\"document.getElementById('_fb_iwohmhprfgyazojmsqjf_ind_6').style.opacity = 0; document.getElementById('_fs_iwohmhprfgyazojmsqjf_ind_6').style.opacity = 0;\"\n",
              "        ></div></div></div>"
            ],
            "text/plain": [
              "<IPython.core.display.HTML object>"
            ]
          },
          "metadata": {},
          "output_type": "display_data"
        },
        {
          "name": "stdout",
          "output_type": "stream",
          "text": [
            "\n",
            "Comment: We like you\n"
          ]
        },
        {
          "data": {
            "text/html": [
              "<svg width=\"100%\" height=\"80px\"><line x1=\"0\" y1=\"33\" x2=\"100%\" y2=\"33\" style=\"stroke:rgb(150,150,150);stroke-width:1\" /><line x1=\"43.4873566388843%\" y1=\"33\" x2=\"43.4873566388843%\" y2=\"37\" style=\"stroke:rgb(150,150,150);stroke-width:1\" /><text x=\"43.4873566388843%\" y=\"27\" font-size=\"12px\" fill=\"rgb(120,120,120)\" dominant-baseline=\"bottom\" text-anchor=\"middle\">0.303</text><line x1=\"20.358465549541375%\" y1=\"33\" x2=\"20.358465549541375%\" y2=\"37\" style=\"stroke:rgb(150,150,150);stroke-width:1\" /><text x=\"20.358465549541375%\" y=\"27\" font-size=\"12px\" fill=\"rgb(120,120,120)\" dominant-baseline=\"bottom\" text-anchor=\"middle\">0.302</text><line x1=\"66.61624772822724%\" y1=\"33\" x2=\"66.61624772822724%\" y2=\"37\" style=\"stroke:rgb(150,150,150);stroke-width:1\" /><text x=\"66.61624772822724%\" y=\"27\" font-size=\"12px\" fill=\"rgb(120,120,120)\" dominant-baseline=\"bottom\" text-anchor=\"middle\">0.304</text><line x1=\"89.74513881757017%\" y1=\"33\" x2=\"89.74513881757017%\" y2=\"37\" style=\"stroke:rgb(150,150,150);stroke-width:1\" /><text x=\"89.74513881757017%\" y=\"27\" font-size=\"12px\" fill=\"rgb(120,120,120)\" dominant-baseline=\"bottom\" text-anchor=\"middle\">0.305</text><line x1=\"87.9469344576147%\" y1=\"33\" x2=\"87.9469344576147%\" y2=\"37\" style=\"stroke:rgb(150,150,150);stroke-width:1\" /><text x=\"87.9469344576147%\" y=\"27\" font-size=\"13px\" style=\"stroke:#ffffff;stroke-width:8px;\" fill=\"rgb(255,255,255)\" dominant-baseline=\"bottom\" text-anchor=\"middle\">0.304922</text><text x=\"87.9469344576147%\" y=\"27\" font-size=\"12px\" fill=\"rgb(120,120,120)\" dominant-baseline=\"bottom\" text-anchor=\"middle\">0.304922</text><text x=\"87.9469344576147%\" y=\"10\" font-size=\"12px\" fill=\"rgb(120,120,120)\" dominant-baseline=\"bottom\" text-anchor=\"middle\">base value</text><line x1=\"12.052834253474407%\" y1=\"33\" x2=\"12.052834253474407%\" y2=\"37\" style=\"stroke:rgb(150,150,150);stroke-width:1\" /><text x=\"12.052834253474407%\" y=\"27\" font-size=\"13px\" style=\"stroke:#ffffff;stroke-width:8px;\" font-weight=\"bold\" fill=\"rgb(255,255,255)\" dominant-baseline=\"bottom\" text-anchor=\"middle\">0.301641</text><text x=\"12.052834253474407%\" y=\"27\" font-size=\"13px\" font-weight=\"bold\" fill=\"rgb(0,0,0)\" dominant-baseline=\"bottom\" text-anchor=\"middle\">0.301641</text><text x=\"12.052834253474407%\" y=\"10\" font-size=\"12px\" fill=\"rgb(120,120,120)\" dominant-baseline=\"bottom\" text-anchor=\"middle\">f<tspan baseline-shift=\"sub\" font-size=\"8px\"></tspan>(inputs)</text><rect x=\"8.333314059257425%\" width=\"3.7195201942169818%\" y=\"40\" height=\"18\" style=\"fill:rgb(255.0, 0.0, 81.08083606031792); stroke-width:0; stroke:rgb(0,0,0)\" /><line x1=\"8.467726519656752%\" x2=\"12.052834253474407%\" y1=\"60\" y2=\"60\" id=\"_fb_nymvkayilojfyrinmmyi_ind_3\" style=\"stroke:rgb(255.0, 0.0, 81.08083606031792);stroke-width:2; opacity: 0\"/><text x=\"10.26028038656558%\" y=\"71\" font-size=\"12px\" id=\"_fs_nymvkayilojfyrinmmyi_ind_3\" fill=\"rgb(255.0, 0.0, 81.08083606031792)\" style=\"opacity: 0\" dominant-baseline=\"middle\" text-anchor=\"middle\">0.0</text><svg x=\"8.467726519656752%\" y=\"40\" height=\"20\" width=\"3.5851077338176545%\">  <svg x=\"0\" y=\"0\" width=\"100%\" height=\"100%\">    <text x=\"50%\" y=\"9\" font-size=\"12px\" fill=\"rgb(255,255,255)\" dominant-baseline=\"middle\" text-anchor=\"middle\">you</text>  </svg></svg><line x1=\"8.368640411029043%\" x2=\"8.467726519656752%\" y1=\"60\" y2=\"60\" id=\"_fb_nymvkayilojfyrinmmyi_ind_4\" style=\"stroke:rgb(255.0, 0.0, 81.08083606031792);stroke-width:2; opacity: 0\"/><text x=\"8.418183465342898%\" y=\"71\" font-size=\"12px\" id=\"_fs_nymvkayilojfyrinmmyi_ind_4\" fill=\"rgb(255.0, 0.0, 81.08083606031792)\" style=\"opacity: 0\" dominant-baseline=\"middle\" text-anchor=\"middle\">0.0</text><svg x=\"8.368640411029043%\" y=\"40\" height=\"20\" width=\"0.09908610862770928%\">  <svg x=\"0\" y=\"0\" width=\"100%\" height=\"100%\">    <text x=\"50%\" y=\"9\" font-size=\"12px\" fill=\"rgb(255,255,255)\" dominant-baseline=\"middle\" text-anchor=\"middle\"></text>  </svg></svg><line x1=\"8.333314059257425%\" x2=\"8.368640411029043%\" y1=\"60\" y2=\"60\" id=\"_fb_nymvkayilojfyrinmmyi_ind_0\" style=\"stroke:rgb(255.0, 0.0, 81.08083606031792);stroke-width:2; opacity: 0\"/><text x=\"8.350977235143233%\" y=\"71\" font-size=\"12px\" id=\"_fs_nymvkayilojfyrinmmyi_ind_0\" fill=\"rgb(255.0, 0.0, 81.08083606031792)\" style=\"opacity: 0\" dominant-baseline=\"middle\" text-anchor=\"middle\">0.0</text><svg x=\"8.333314059257425%\" y=\"40\" height=\"20\" width=\"0.03532635177161758%\">  <svg x=\"0\" y=\"0\" width=\"100%\" height=\"100%\">    <text x=\"50%\" y=\"9\" font-size=\"12px\" fill=\"rgb(255,255,255)\" dominant-baseline=\"middle\" text-anchor=\"middle\"></text>  </svg></svg><g transform=\"translate(0,0)\">  <svg x=\"8.467726519656752%\" y=\"40\" height=\"18\" overflow=\"visible\" width=\"30\">    <path d=\"M 0 -9 l 6 18 L 0 25\" fill=\"none\" style=\"stroke:rgb(255.0, 0.0, 81.08083606031792);stroke-width:2\" />  </svg></g><g transform=\"translate(2,0)\">  <svg x=\"8.467726519656752%\" y=\"40\" height=\"18\" overflow=\"visible\" width=\"30\">    <path d=\"M 0 -9 l 6 18 L 0 25\" fill=\"none\" style=\"stroke:rgb(255.0, 0.0, 81.08083606031792);stroke-width:2\" />  </svg></g><g transform=\"translate(4,0)\">  <svg x=\"8.467726519656752%\" y=\"40\" height=\"18\" overflow=\"visible\" width=\"30\">    <path d=\"M 0 -9 l 6 18 L 0 25\" fill=\"none\" style=\"stroke:rgb(255.0, 0.0, 81.08083606031792);stroke-width:2\" />  </svg></g><g transform=\"translate(6,0)\">  <svg x=\"8.467726519656752%\" y=\"40\" height=\"18\" overflow=\"visible\" width=\"30\">    <path d=\"M 0 -9 l 6 18 L 0 25\" fill=\"none\" style=\"stroke:rgb(255.0, 0.0, 81.08083606031792);stroke-width:2\" />  </svg></g><g transform=\"translate(-8,0)\">  <svg x=\"8.467726519656752%\" y=\"40\" height=\"18\" overflow=\"visible\" width=\"30\">    <path d=\"M 0 -9 l 6 18 L 0 25\" fill=\"none\" style=\"stroke:rgb(255.0, 0.0, 81.08083606031792);stroke-width:2\" />  </svg></g><g transform=\"translate(-6,0)\">  <svg x=\"8.467726519656752%\" y=\"40\" height=\"18\" overflow=\"visible\" width=\"30\">    <path d=\"M 0 -9 l 6 18 L 0 25\" fill=\"none\" style=\"stroke:rgb(255.0, 0.0, 81.08083606031792);stroke-width:2\" />  </svg></g><g transform=\"translate(-4,0)\">  <svg x=\"8.467726519656752%\" y=\"40\" height=\"18\" overflow=\"visible\" width=\"30\">    <path d=\"M 0 -9 l 6 18 L 0 25\" fill=\"none\" style=\"stroke:rgb(255.0, 0.0, 81.08083606031792);stroke-width:2\" />  </svg></g><g transform=\"translate(-2,0)\">  <svg x=\"8.467726519656752%\" y=\"40\" height=\"18\" overflow=\"visible\" width=\"30\">    <path d=\"M 0 -9 l 6 18 L 0 25\" fill=\"none\" style=\"stroke:rgb(255.0, 0.0, 81.08083606031792);stroke-width:2\" />  </svg></g><g transform=\"translate(0,0)\">  <svg x=\"8.368640411029043%\" y=\"40\" height=\"18\" overflow=\"visible\" width=\"30\">    <path d=\"M 0 -9 l 6 18 L 0 25\" fill=\"none\" style=\"stroke:rgb(255.0, 0.0, 81.08083606031792);stroke-width:2\" />  </svg></g><g transform=\"translate(2,0)\">  <svg x=\"8.368640411029043%\" y=\"40\" height=\"18\" overflow=\"visible\" width=\"30\">    <path d=\"M 0 -9 l 6 18 L 0 25\" fill=\"none\" style=\"stroke:rgb(255.0, 0.0, 81.08083606031792);stroke-width:2\" />  </svg></g><g transform=\"translate(4,0)\">  <svg x=\"8.368640411029043%\" y=\"40\" height=\"18\" overflow=\"visible\" width=\"30\">    <path d=\"M 0 -9 l 6 18 L 0 25\" fill=\"none\" style=\"stroke:rgb(255.0, 0.0, 81.08083606031792);stroke-width:2\" />  </svg></g><g transform=\"translate(6,0)\">  <svg x=\"8.368640411029043%\" y=\"40\" height=\"18\" overflow=\"visible\" width=\"30\">    <path d=\"M 0 -9 l 6 18 L 0 25\" fill=\"none\" style=\"stroke:rgb(255.0, 0.0, 81.08083606031792);stroke-width:2\" />  </svg></g><g transform=\"translate(-8,0)\">  <svg x=\"8.368640411029043%\" y=\"40\" height=\"18\" overflow=\"visible\" width=\"30\">    <path d=\"M 0 -9 l 6 18 L 0 25\" fill=\"none\" style=\"stroke:rgb(255.0, 0.0, 81.08083606031792);stroke-width:2\" />  </svg></g><g transform=\"translate(-6,0)\">  <svg x=\"8.368640411029043%\" y=\"40\" height=\"18\" overflow=\"visible\" width=\"30\">    <path d=\"M 0 -9 l 6 18 L 0 25\" fill=\"none\" style=\"stroke:rgb(255.0, 0.0, 81.08083606031792);stroke-width:2\" />  </svg></g><g transform=\"translate(-4,0)\">  <svg x=\"8.368640411029043%\" y=\"40\" height=\"18\" overflow=\"visible\" width=\"30\">    <path d=\"M 0 -9 l 6 18 L 0 25\" fill=\"none\" style=\"stroke:rgb(255.0, 0.0, 81.08083606031792);stroke-width:2\" />  </svg></g><g transform=\"translate(-2,0)\">  <svg x=\"8.368640411029043%\" y=\"40\" height=\"18\" overflow=\"visible\" width=\"30\">    <path d=\"M 0 -9 l 6 18 L 0 25\" fill=\"none\" style=\"stroke:rgb(255.0, 0.0, 81.08083606031792);stroke-width:2\" />  </svg></g><rect transform=\"translate(-8,0)\" x=\"12.052834253474407%\" y=\"40\" width=\"8\" height=\"18\" style=\"fill:rgb(255.0, 0.0, 81.08083606031792)\"/><g transform=\"translate(-11.5,0)\">  <svg x=\"8.333314059257425%\" y=\"40\" height=\"18\" overflow=\"visible\" width=\"30\">    <path d=\"M 10 -9 l 6 18 L 10 25 L 0 25 L 0 -9\" fill=\"#ffffff\" style=\"stroke:rgb(255,255,255);stroke-width:2\" />  </svg></g><g transform=\"translate(-1.5,0)\">  <svg x=\"12.052834253474407%\" y=\"40\" height=\"18\" overflow=\"visible\" width=\"30\">    <path d=\"M 0 -9 l 6 18 L 0 25\" fill=\"none\" style=\"stroke:rgb(255, 195, 213);stroke-width:2\" />  </svg></g><rect x=\"8.467726519656752%\" y=\"40\" height=\"20\" width=\"3.5851077338176545%\"      onmouseover=\"document.getElementById('_tp_nymvkayilojfyrinmmyi_ind_3').style.textDecoration = 'underline';document.getElementById('_fs_nymvkayilojfyrinmmyi_ind_3').style.opacity = 1;document.getElementById('_fb_nymvkayilojfyrinmmyi_ind_3').style.opacity = 1;\"      onmouseout=\"document.getElementById('_tp_nymvkayilojfyrinmmyi_ind_3').style.textDecoration = 'none';document.getElementById('_fs_nymvkayilojfyrinmmyi_ind_3').style.opacity = 0;document.getElementById('_fb_nymvkayilojfyrinmmyi_ind_3').style.opacity = 0;\" style=\"fill:rgb(0,0,0,0)\" /><g transform=\"translate(-1.5,0)\">  <svg x=\"8.467726519656752%\" y=\"40\" height=\"18\" overflow=\"visible\" width=\"30\">    <path d=\"M 0 -9 l 6 18 L 0 25\" fill=\"none\" style=\"stroke:rgb(255, 195, 213);stroke-width:2\" />  </svg></g><rect x=\"8.368640411029043%\" y=\"40\" height=\"20\" width=\"0.09908610862770928%\"      onmouseover=\"document.getElementById('_tp_nymvkayilojfyrinmmyi_ind_4').style.textDecoration = 'underline';document.getElementById('_fs_nymvkayilojfyrinmmyi_ind_4').style.opacity = 1;document.getElementById('_fb_nymvkayilojfyrinmmyi_ind_4').style.opacity = 1;\"      onmouseout=\"document.getElementById('_tp_nymvkayilojfyrinmmyi_ind_4').style.textDecoration = 'none';document.getElementById('_fs_nymvkayilojfyrinmmyi_ind_4').style.opacity = 0;document.getElementById('_fb_nymvkayilojfyrinmmyi_ind_4').style.opacity = 0;\" style=\"fill:rgb(0,0,0,0)\" /><rect x=\"8.333314059257425%\" y=\"40\" height=\"20\" width=\"0.03532635177161758%\"      onmouseover=\"document.getElementById('_tp_nymvkayilojfyrinmmyi_ind_0').style.textDecoration = 'underline';document.getElementById('_fs_nymvkayilojfyrinmmyi_ind_0').style.opacity = 1;document.getElementById('_fb_nymvkayilojfyrinmmyi_ind_0').style.opacity = 1;\"      onmouseout=\"document.getElementById('_tp_nymvkayilojfyrinmmyi_ind_0').style.textDecoration = 'none';document.getElementById('_fs_nymvkayilojfyrinmmyi_ind_0').style.opacity = 0;document.getElementById('_fb_nymvkayilojfyrinmmyi_ind_0').style.opacity = 0;\" style=\"fill:rgb(0,0,0,0)\" /><rect x=\"12.052834253474407%\" width=\"79.61362039835727%\" y=\"40\" height=\"18\" style=\"fill:rgb(0.0, 138.56128015770727, 250.76166088685727); stroke-width:0; stroke:rgb(0,0,0)\" /><line x1=\"12.052834253474407%\" x2=\"53.91111462949775%\" y1=\"60\" y2=\"60\" id=\"_fb_nymvkayilojfyrinmmyi_ind_1\" style=\"stroke:rgb(0.0, 138.56128015770727, 250.76166088685727);stroke-width:2; opacity: 0\"/><text x=\"32.98197444148608%\" y=\"71\" font-size=\"12px\" fill=\"rgb(0.0, 138.56128015770727, 250.76166088685727)\" id=\"_fs_nymvkayilojfyrinmmyi_ind_1\" style=\"opacity: 0\" dominant-baseline=\"middle\" text-anchor=\"middle\">-0.002</text><svg x=\"12.052834253474407%\" y=\"40\" height=\"20\" width=\"41.858280376023345%\">  <svg x=\"0\" y=\"0\" width=\"100%\" height=\"100%\">    <text x=\"50%\" y=\"9\" font-size=\"12px\" fill=\"rgb(255,255,255)\" dominant-baseline=\"middle\" text-anchor=\"middle\">we</text>  </svg></svg><line x1=\"53.91111462949775%\" x2=\"91.66645465183169%\" y1=\"60\" y2=\"60\" id=\"_fb_nymvkayilojfyrinmmyi_ind_2\" style=\"stroke:rgb(0.0, 138.56128015770727, 250.76166088685727);stroke-width:2; opacity: 0\"/><text x=\"72.78878464066472%\" y=\"71\" font-size=\"12px\" fill=\"rgb(0.0, 138.56128015770727, 250.76166088685727)\" id=\"_fs_nymvkayilojfyrinmmyi_ind_2\" style=\"opacity: 0\" dominant-baseline=\"middle\" text-anchor=\"middle\">-0.002</text><svg x=\"53.91111462949775%\" y=\"40\" height=\"20\" width=\"37.75534002233393%\">  <svg x=\"0\" y=\"0\" width=\"100%\" height=\"100%\">    <text x=\"50%\" y=\"9\" font-size=\"12px\" fill=\"rgb(255,255,255)\" dominant-baseline=\"middle\" text-anchor=\"middle\">like</text>  </svg></svg><g transform=\"translate(-8,0)\">  <svg x=\"53.91111462949775%\" y=\"40\" height=\"18\" overflow=\"visible\" width=\"30\">    <path d=\"M 8 -9 l -6 18 L 8 25\" fill=\"none\" style=\"stroke:rgb(0.0, 138.56128015770727, 250.76166088685727);stroke-width:2\" />  </svg></g><g transform=\"translate(-10,0)\">  <svg x=\"53.91111462949775%\" y=\"40\" height=\"18\" overflow=\"visible\" width=\"30\">    <path d=\"M 8 -9 l -6 18 L 8 25\" fill=\"none\" style=\"stroke:rgb(0.0, 138.56128015770727, 250.76166088685727);stroke-width:2\" />  </svg></g><g transform=\"translate(-12,0)\">  <svg x=\"53.91111462949775%\" y=\"40\" height=\"18\" overflow=\"visible\" width=\"30\">    <path d=\"M 8 -9 l -6 18 L 8 25\" fill=\"none\" style=\"stroke:rgb(0.0, 138.56128015770727, 250.76166088685727);stroke-width:2\" />  </svg></g><g transform=\"translate(-14,0)\">  <svg x=\"53.91111462949775%\" y=\"40\" height=\"18\" overflow=\"visible\" width=\"30\">    <path d=\"M 8 -9 l -6 18 L 8 25\" fill=\"none\" style=\"stroke:rgb(0.0, 138.56128015770727, 250.76166088685727);stroke-width:2\" />  </svg></g><g transform=\"translate(2,0)\">  <svg x=\"53.91111462949775%\" y=\"40\" height=\"18\" overflow=\"visible\" width=\"30\">    <path d=\"M 8 -9 l -6 18 L 8 25\" fill=\"none\" style=\"stroke:rgb(0.0, 138.56128015770727, 250.76166088685727);stroke-width:2\" />  </svg></g><g transform=\"translate(0,0)\">  <svg x=\"53.91111462949775%\" y=\"40\" height=\"18\" overflow=\"visible\" width=\"30\">    <path d=\"M 8 -9 l -6 18 L 8 25\" fill=\"none\" style=\"stroke:rgb(0.0, 138.56128015770727, 250.76166088685727);stroke-width:2\" />  </svg></g><g transform=\"translate(-2,0)\">  <svg x=\"53.91111462949775%\" y=\"40\" height=\"18\" overflow=\"visible\" width=\"30\">    <path d=\"M 8 -9 l -6 18 L 8 25\" fill=\"none\" style=\"stroke:rgb(0.0, 138.56128015770727, 250.76166088685727);stroke-width:2\" />  </svg></g><g transform=\"translate(-4,0)\">  <svg x=\"53.91111462949775%\" y=\"40\" height=\"18\" overflow=\"visible\" width=\"30\">    <path d=\"M 8 -9 l -6 18 L 8 25\" fill=\"none\" style=\"stroke:rgb(0.0, 138.56128015770727, 250.76166088685727);stroke-width:2\" />  </svg></g><rect transform=\"translate(0,0)\" x=\"12.052834253474407%\" y=\"40\" width=\"8\" height=\"18\" style=\"fill:rgb(0.0, 138.56128015770727, 250.76166088685727)\"/><g transform=\"translate(-6.0,0)\">  <svg x=\"91.66645465183169%\" y=\"40\" height=\"18\" overflow=\"visible\" width=\"30\">    <path d=\"M 8 -9 l -6 18 L 8 25 L 20 25 L 20 -9\" fill=\"#ffffff\" style=\"stroke:rgb(255,255,255);stroke-width:2\" />  </svg></g><g transform=\"translate(-6.0,0)\">  <svg x=\"53.91111462949775%\" y=\"40\" height=\"18\" overflow=\"visible\" width=\"30\">    <path d=\"M 8 -9 l -6 18 L 8 25\" fill=\"none\" style=\"stroke:rgb(208, 230, 250);stroke-width:2\" />  </svg></g><rect x=\"12.052834253474407%\" y=\"40\" height=\"20\" width=\"41.858280376023345%\"      onmouseover=\"document.getElementById('_tp_nymvkayilojfyrinmmyi_ind_1').style.textDecoration = 'underline';document.getElementById('_fs_nymvkayilojfyrinmmyi_ind_1').style.opacity = 1;document.getElementById('_fb_nymvkayilojfyrinmmyi_ind_1').style.opacity = 1;\"      onmouseout=\"document.getElementById('_tp_nymvkayilojfyrinmmyi_ind_1').style.textDecoration = 'none';document.getElementById('_fs_nymvkayilojfyrinmmyi_ind_1').style.opacity = 0;document.getElementById('_fb_nymvkayilojfyrinmmyi_ind_1').style.opacity = 0;\" style=\"fill:rgb(0,0,0,0)\" /><rect x=\"53.91111462949775%\" y=\"40\" height=\"20\" width=\"37.75534002233393%\"      onmouseover=\"document.getElementById('_tp_nymvkayilojfyrinmmyi_ind_2').style.textDecoration = 'underline';document.getElementById('_fs_nymvkayilojfyrinmmyi_ind_2').style.opacity = 1;document.getElementById('_fb_nymvkayilojfyrinmmyi_ind_2').style.opacity = 1;\"      onmouseout=\"document.getElementById('_tp_nymvkayilojfyrinmmyi_ind_2').style.textDecoration = 'none';document.getElementById('_fs_nymvkayilojfyrinmmyi_ind_2').style.opacity = 0;document.getElementById('_fb_nymvkayilojfyrinmmyi_ind_2').style.opacity = 0;\" style=\"fill:rgb(0,0,0,0)\" /></svg><div align='center'><div style=\"color: rgb(120,120,120); font-size: 12px; margin-top: -15px;\">inputs</div><div style='display: inline; text-align: center;'\n",
              "    ><div style='display: none; color: #999; padding-top: 0px; font-size: 12px;'>0.0</div\n",
              "        ><div id='_tp_nymvkayilojfyrinmmyi_ind_0'\n",
              "            style='display: inline; background: rgba(230.2941176470614, 26.505882352939775, 102.59215686274348, 0.0); border-radius: 3px; padding: 0px'\n",
              "            onclick=\"\n",
              "            if (this.previousSibling.style.display == 'none') {\n",
              "                this.previousSibling.style.display = 'block';\n",
              "                this.parentNode.style.display = 'inline-block';\n",
              "            } else {\n",
              "                this.previousSibling.style.display = 'none';\n",
              "                this.parentNode.style.display = 'inline';\n",
              "            }\"\n",
              "            onmouseover=\"document.getElementById('_fb_nymvkayilojfyrinmmyi_ind_0').style.opacity = 1; document.getElementById('_fs_nymvkayilojfyrinmmyi_ind_0').style.opacity = 1;\"\n",
              "            onmouseout=\"document.getElementById('_fb_nymvkayilojfyrinmmyi_ind_0').style.opacity = 0; document.getElementById('_fs_nymvkayilojfyrinmmyi_ind_0').style.opacity = 0;\"\n",
              "        ></div></div><div style='display: inline; text-align: center;'\n",
              "    ><div style='display: none; color: #999; padding-top: 0px; font-size: 12px;'>-0.002</div\n",
              "        ><div id='_tp_nymvkayilojfyrinmmyi_ind_1'\n",
              "            style='display: inline; background: rgba(30.0, 136.0, 229.0, 1.0); border-radius: 3px; padding: 0px'\n",
              "            onclick=\"\n",
              "            if (this.previousSibling.style.display == 'none') {\n",
              "                this.previousSibling.style.display = 'block';\n",
              "                this.parentNode.style.display = 'inline-block';\n",
              "            } else {\n",
              "                this.previousSibling.style.display = 'none';\n",
              "                this.parentNode.style.display = 'inline';\n",
              "            }\"\n",
              "            onmouseover=\"document.getElementById('_fb_nymvkayilojfyrinmmyi_ind_1').style.opacity = 1; document.getElementById('_fs_nymvkayilojfyrinmmyi_ind_1').style.opacity = 1;\"\n",
              "            onmouseout=\"document.getElementById('_fb_nymvkayilojfyrinmmyi_ind_1').style.opacity = 0; document.getElementById('_fs_nymvkayilojfyrinmmyi_ind_1').style.opacity = 0;\"\n",
              "        > we</div></div><div style='display: inline; text-align: center;'\n",
              "    ><div style='display: none; color: #999; padding-top: 0px; font-size: 12px;'>-0.002</div\n",
              "        ><div id='_tp_nymvkayilojfyrinmmyi_ind_2'\n",
              "            style='display: inline; background: rgba(30.0, 136.0, 229.0, 0.9054070112893642); border-radius: 3px; padding: 0px'\n",
              "            onclick=\"\n",
              "            if (this.previousSibling.style.display == 'none') {\n",
              "                this.previousSibling.style.display = 'block';\n",
              "                this.parentNode.style.display = 'inline-block';\n",
              "            } else {\n",
              "                this.previousSibling.style.display = 'none';\n",
              "                this.parentNode.style.display = 'inline';\n",
              "            }\"\n",
              "            onmouseover=\"document.getElementById('_fb_nymvkayilojfyrinmmyi_ind_2').style.opacity = 1; document.getElementById('_fs_nymvkayilojfyrinmmyi_ind_2').style.opacity = 1;\"\n",
              "            onmouseout=\"document.getElementById('_fb_nymvkayilojfyrinmmyi_ind_2').style.opacity = 0; document.getElementById('_fs_nymvkayilojfyrinmmyi_ind_2').style.opacity = 0;\"\n",
              "        > like</div></div><div style='display: inline; text-align: center;'\n",
              "    ><div style='display: none; color: #999; padding-top: 0px; font-size: 12px;'>0.0</div\n",
              "        ><div id='_tp_nymvkayilojfyrinmmyi_ind_3'\n",
              "            style='display: inline; background: rgba(255.0, 13.0, 87.0, 0.07771836007130124); border-radius: 3px; padding: 0px'\n",
              "            onclick=\"\n",
              "            if (this.previousSibling.style.display == 'none') {\n",
              "                this.previousSibling.style.display = 'block';\n",
              "                this.parentNode.style.display = 'inline-block';\n",
              "            } else {\n",
              "                this.previousSibling.style.display = 'none';\n",
              "                this.parentNode.style.display = 'inline';\n",
              "            }\"\n",
              "            onmouseover=\"document.getElementById('_fb_nymvkayilojfyrinmmyi_ind_3').style.opacity = 1; document.getElementById('_fs_nymvkayilojfyrinmmyi_ind_3').style.opacity = 1;\"\n",
              "            onmouseout=\"document.getElementById('_fb_nymvkayilojfyrinmmyi_ind_3').style.opacity = 0; document.getElementById('_fs_nymvkayilojfyrinmmyi_ind_3').style.opacity = 0;\"\n",
              "        > you</div></div><div style='display: inline; text-align: center;'\n",
              "    ><div style='display: none; color: #999; padding-top: 0px; font-size: 12px;'>0.0</div\n",
              "        ><div id='_tp_nymvkayilojfyrinmmyi_ind_4'\n",
              "            style='display: inline; background: rgba(230.2941176470614, 26.505882352939775, 102.59215686274348, 0.0); border-radius: 3px; padding: 0px'\n",
              "            onclick=\"\n",
              "            if (this.previousSibling.style.display == 'none') {\n",
              "                this.previousSibling.style.display = 'block';\n",
              "                this.parentNode.style.display = 'inline-block';\n",
              "            } else {\n",
              "                this.previousSibling.style.display = 'none';\n",
              "                this.parentNode.style.display = 'inline';\n",
              "            }\"\n",
              "            onmouseover=\"document.getElementById('_fb_nymvkayilojfyrinmmyi_ind_4').style.opacity = 1; document.getElementById('_fs_nymvkayilojfyrinmmyi_ind_4').style.opacity = 1;\"\n",
              "            onmouseout=\"document.getElementById('_fb_nymvkayilojfyrinmmyi_ind_4').style.opacity = 0; document.getElementById('_fs_nymvkayilojfyrinmmyi_ind_4').style.opacity = 0;\"\n",
              "        ></div></div></div>"
            ],
            "text/plain": [
              "<IPython.core.display.HTML object>"
            ]
          },
          "metadata": {},
          "output_type": "display_data"
        }
      ],
      "source": [
        "# Iterate through the list of comments with their indices\n",
        "for i, comment in enumerate(comments):\n",
        "    # Print the current comment being processed\n",
        "    print(f\"\\nComment: {comment}\")\n",
        "\n",
        "    # Extract SHAP values for the \"toxic\" class (class index 1)\n",
        "    shap_values_toxic_class = shap_values[i].values[:, 1]\n",
        "\n",
        "    # Create a copy of the SHAP explanation for the toxic class\n",
        "    shap_value_copy = shap.Explanation(\n",
        "        values=shap_values_toxic_class,           # SHAP values for the toxic class\n",
        "        base_values=shap_values[i].base_values[1],  # Base value for the toxic class\n",
        "        data=shap_values[i].data,                  # Input data associated with SHAP values\n",
        "        feature_names=shap_values[i].feature_names,  # Names of features (tokens)\n",
        "        clustering=shap_values[i].clustering        # Clustering info for visualization\n",
        "    )\n",
        "\n",
        "    # Visualize the SHAP values for the toxic class using a text plot\n",
        "    shap.text_plot(shap_value_copy)\n"
      ]
    },
    {
      "cell_type": "code",
      "execution_count": null,
      "id": "8fa96216",
      "metadata": {
        "id": "8fa96216"
      },
      "outputs": [],
      "source": []
    }
  ],
  "metadata": {
    "kernelspec": {
      "display_name": "Python 3 (ipykernel)",
      "language": "python",
      "name": "python3"
    },
    "language_info": {
      "codemirror_mode": {
        "name": "ipython",
        "version": 3
      },
      "file_extension": ".py",
      "mimetype": "text/x-python",
      "name": "python",
      "nbconvert_exporter": "python",
      "pygments_lexer": "ipython3",
      "version": "3.9.9"
    },
    "colab": {
      "provenance": [],
      "include_colab_link": true
    }
  },
  "nbformat": 4,
  "nbformat_minor": 5
}